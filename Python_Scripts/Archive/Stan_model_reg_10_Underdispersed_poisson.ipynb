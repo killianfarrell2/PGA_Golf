{
 "cells": [
  {
   "cell_type": "code",
   "execution_count": 1,
   "id": "69dd61f0-ce52-4590-abd7-20ff791385ed",
   "metadata": {},
   "outputs": [
    {
     "name": "stderr",
     "output_type": "stream",
     "text": [
      "C:\\Users\\killi\\AppData\\Local\\Temp/ipykernel_18112/3665337522.py:35: SettingWithCopyWarning: \n",
      "A value is trying to be set on a copy of a slice from a DataFrame.\n",
      "Try using .loc[row_indexer,col_indexer] = value instead\n",
      "\n",
      "See the caveats in the documentation: https://pandas.pydata.org/pandas-docs/stable/user_guide/indexing.html#returning-a-view-versus-a-copy\n",
      "  mydata2['date'] = pd.to_datetime(mydata2['date'])\n",
      "C:\\Users\\killi\\AppData\\Local\\Temp/ipykernel_18112/3665337522.py:38: SettingWithCopyWarning: \n",
      "A value is trying to be set on a copy of a slice from a DataFrame.\n",
      "Try using .loc[row_indexer,col_indexer] = value instead\n",
      "\n",
      "See the caveats in the documentation: https://pandas.pydata.org/pandas-docs/stable/user_guide/indexing.html#returning-a-view-versus-a-copy\n",
      "  mydata2['date_round'] = mydata2['date'] + pd.to_timedelta(mydata2['Round'] - 4, unit='D')\n",
      "C:\\Users\\killi\\AppData\\Local\\Temp/ipykernel_18112/3665337522.py:44: SettingWithCopyWarning: \n",
      "A value is trying to be set on a copy of a slice from a DataFrame.\n",
      "Try using .loc[row_indexer,col_indexer] = value instead\n",
      "\n",
      "See the caveats in the documentation: https://pandas.pydata.org/pandas-docs/stable/user_guide/indexing.html#returning-a-view-versus-a-copy\n",
      "  mydata2['time'] = (mydata2['date_round'] - earliest_date).dt.days\n"
     ]
    }
   ],
   "source": [
    "# This time will be using discree count data\n",
    "\n",
    "import pandas as pd\n",
    "import numpy as np\n",
    "from statsmodels.tsa.holtwinters import ExponentialSmoothing\n",
    "\n",
    "# Read in model data - round level (37,676)\n",
    "model_data = pd.read_csv('C:\\\\KF_Repo\\\\PGA_Golf\\\\Tournament_level_model\\\\Data_manipulation\\\\model_data.csv')\n",
    "\n",
    "\n",
    "# Group by count using pandas groupby()\n",
    "grouped_data = model_data.groupby(['tournament id', 'Round'])['Round_total'].mean().reset_index()\n",
    "\n",
    "# Rename columns\n",
    "grouped_data = grouped_data.rename(columns={\"tournament id\": \"tournament id\", \n",
    "                                            \"Round\": \"Round\",\n",
    "                                            \"Round_total\": \"Avg_Score\"})\n",
    "\n",
    "# Round Avg Score to 2 decimal places (same as strokes gained)\n",
    "grouped_data['Avg_Score'] = grouped_data['Avg_Score'].round(2)\n",
    "\n",
    "# Merge dataframes by 'tournament.id' and 'Round'\n",
    "add_avg = pd.merge(model_data, grouped_data, on=['tournament id', 'Round'])\n",
    "\n",
    "\n",
    "# Add difference - put same format as strokes gained\n",
    "# Negative is bad, positive is good\n",
    "add_avg['Round_sg'] = add_avg['Avg_Score'] - add_avg['Round_total']\n",
    "\n",
    "# Filter data for players that you want to analyze\n",
    "my_players = ['Seamus Power', 'Tony Finau']\n",
    "mydata2 = add_avg[add_avg['player'].isin(my_players)]\n",
    "\n",
    "# Convert date to datetime format\n",
    "mydata2['date'] = pd.to_datetime(mydata2['date'])\n",
    "\n",
    "# Add in a column for date of round\n",
    "mydata2['date_round'] = mydata2['date'] + pd.to_timedelta(mydata2['Round'] - 4, unit='D')\n",
    "\n",
    "# Find the earliest date\n",
    "earliest_date = mydata2['date_round'].min()\n",
    "\n",
    "# Calculate the time column\n",
    "mydata2['time'] = (mydata2['date_round'] - earliest_date).dt.days\n",
    "\n",
    "# Create a sequence of unique dates and assign corresponding time values\n",
    "unique_dates = mydata2['date_round'].unique()\n",
    "date_to_time_mapping = pd.DataFrame({'date_round': unique_dates, 'time_2': np.arange(len(unique_dates))})\n",
    "\n",
    "# Merge the mapping with the original dataframe\n",
    "mydata2 = pd.merge(mydata2, date_to_time_mapping, on='date_round', how='left')\n",
    "\n",
    "# Concatenate columns with \"_\"\n",
    "unique_tr = mydata2[['tournament name','date_round', 'Round']].drop_duplicates()\n",
    "unique_tr['cr'] = unique_tr['tournament name'].astype(str) + \"_\"+ unique_tr['date_round'].astype(str) + \"_\" +\"R\"+ unique_tr['Round'].astype(str)\n",
    "\n",
    "# Concatenate columns with \"_\"\n",
    "unique_tourn = mydata2[['tournament name', 'date']].drop_duplicates()\n",
    "unique_tourn['tourn'] = unique_tourn['tournament name'].astype(str) + \"_\" + unique_tourn['date'].astype(str)\n",
    "\n",
    "# Create additional dataframe before filter\n",
    "mydata_all = pd.merge(mydata2, unique_tr, on=['tournament name','date_round', 'Round'], how='left')\n",
    "mydata_all = pd.merge(mydata_all, unique_tourn, on=['tournament name', 'date'], how='left')\n",
    "\n",
    "# Keep using mydata2\n",
    "mydata2 = pd.merge(mydata2, unique_tr, on=['tournament name','date_round', 'Round'], how='left')\n",
    "mydata2 = pd.merge(mydata2, unique_tourn, on=['tournament name', 'date'], how='left')\n",
    "\n",
    "\n",
    "# Filter train and test data\n",
    "train_data = mydata_all[mydata_all['date_round'] <= \"2020-08-30\"]\n",
    "test_data = mydata_all[mydata_all['date_round'] > \"2020-08-30\"]\n",
    "\n",
    "# Perform Regression on training data\n",
    "reg_data = train_data\n",
    "\n",
    "# Filter by player\n",
    "power = reg_data[reg_data['player'] == \"Seamus Power\"]\n",
    "\n",
    "# Order by date round\n",
    "power = power.sort_values(by='date_round')\n",
    "\n",
    "# Create a time series object - Change this to round total\n",
    "ts_data = pd.Series(power['Round_total'].values, index=power['date_round'])\n",
    "\n",
    "## partition into train and test\n",
    "train_series = ts_data[:80]\n",
    "test_series = ts_data[80:103]\n"
   ]
  },
  {
   "cell_type": "code",
   "execution_count": 2,
   "id": "051ac2fc-37fe-4f53-b1b5-a657e4be329b",
   "metadata": {},
   "outputs": [
    {
     "data": {
      "image/png": "[encoded data removed]",
      "text/plain": [
       "<Figure size 432x288 with 1 Axes>"
      ]
     },
     "metadata": {
      "needs_background": "light"
     },
     "output_type": "display_data"
    },
    {
     "name": "stdout",
     "output_type": "stream",
     "text": [
      "mean  71.2125\n",
      "std  3.2353274563790295\n",
      "var  10.467343750000001\n"
     ]
    }
   ],
   "source": [
    "import matplotlib.pyplot as plt\n",
    "\n",
    "# Plotting the histogram\n",
    "plt.hist(train_series, bins=10, color='skyblue', edgecolor='black')\n",
    "\n",
    "# Adding labels and title\n",
    "plt.xlabel('Counts')\n",
    "plt.ylabel('Frequency')\n",
    "plt.title('Histogram of Count Data')\n",
    "\n",
    "# Display the plot\n",
    "plt.show()\n",
    "\n",
    "# calculate standard dev of generated values\n",
    "# Mean is far greater than Variance so poisson not appropriate\n",
    "print('mean ',np.mean(train_series))\n",
    "print('std ',np.std(train_series))\n",
    "print('var ',np.var(train_series))\n"
   ]
  },
  {
   "cell_type": "code",
   "execution_count": 3,
   "id": "61ef5994-1a93-49ac-9fd3-c5353ca9f5d4",
   "metadata": {},
   "outputs": [
    {
     "name": "stdout",
     "output_type": "stream",
     "text": [
      "Warning: Desired error not necessarily achieved due to precision loss.\n",
      "         Current function value: 3.037565\n",
      "         Iterations: 0\n",
      "         Function evaluations: 5\n",
      "         Gradient evaluations: 4\n",
      "                    GeneralizedPoisson Regression Results                     \n",
      "==============================================================================\n",
      "Dep. Variable:                      y   No. Observations:                   80\n",
      "Model:             GeneralizedPoisson   Df Residuals:                       79\n",
      "Method:                           MLE   Df Model:                            0\n",
      "Date:                Fri, 10 May 2024   Pseudo R-squ.:                 -0.1692\n",
      "Time:                        22:10:29   Log-Likelihood:                -243.01\n",
      "converged:                      False   LL-Null:                       -207.84\n",
      "Covariance Type:            nonrobust   LLR p-value:                       nan\n",
      "==============================================================================\n",
      "                 coef    std err          z      P>|z|      [0.025      0.975]\n",
      "------------------------------------------------------------------------------\n",
      "const          4.2657        nan        nan        nan         nan         nan\n",
      "alpha         -0.1000        nan        nan        nan         nan         nan\n",
      "==============================================================================\n",
      "Optimization terminated successfully.\n",
      "         Current function value: 2.598062\n",
      "         Iterations: 8\n",
      "         Function evaluations: 15\n",
      "         Gradient evaluations: 15\n",
      "                    GeneralizedPoisson Regression Results                     \n",
      "==============================================================================\n",
      "Dep. Variable:                      y   No. Observations:                   80\n",
      "Model:             GeneralizedPoisson   Df Residuals:                       79\n",
      "Method:                           MLE   Df Model:                            0\n",
      "Date:                Fri, 10 May 2024   Pseudo R-squ.:              -5.551e-15\n",
      "Time:                        22:10:29   Log-Likelihood:                -207.84\n",
      "converged:                       True   LL-Null:                       -207.84\n",
      "Covariance Type:            nonrobust   LLR p-value:                       nan\n",
      "==============================================================================\n",
      "                 coef    std err          z      P>|z|      [0.025      0.975]\n",
      "------------------------------------------------------------------------------\n",
      "const          4.2657      0.005    829.466      0.000       4.256       4.276\n",
      "alpha         -0.0086      0.000    -20.296      0.000      -0.009      -0.008\n",
      "==============================================================================\n"
     ]
    },
    {
     "name": "stderr",
     "output_type": "stream",
     "text": [
      "C:\\Users\\killi\\anaconda3\\envs\\stan_2\\lib\\site-packages\\statsmodels\\base\\model.py:595: HessianInversionWarning: Inverting hessian failed, no bse or cov_params available\n",
      "  warnings.warn('Inverting hessian failed, no bse or cov_params '\n",
      "C:\\Users\\killi\\anaconda3\\envs\\stan_2\\lib\\site-packages\\statsmodels\\base\\model.py:607: ConvergenceWarning: Maximum Likelihood optimization failed to converge. Check mle_retvals\n",
      "  warnings.warn(\"Maximum Likelihood optimization failed to \"\n"
     ]
    }
   ],
   "source": [
    "# Create statsmodels generalised\n",
    "import pandas as pd\n",
    "import numpy as np\n",
    "import statsmodels.api as sm\n",
    "import matplotlib.pyplot as plt\n",
    "\n",
    "# Add constant column to X\n",
    "X = sm.add_constant(train_series)\n",
    "\n",
    "# GP1 Model\n",
    "\n",
    "gen_poisson_gp1 = sm.GeneralizedPoisson(train_series.values, X['const'].values, p=1)\n",
    "\n",
    "gen_poisson_gp1_results = gen_poisson_gp1.fit()\n",
    "\n",
    "print(gen_poisson_gp1_results.summary())\n",
    "\n",
    "# GP2 Model\n",
    "# WHy is the coefficient 4 if my data has values in the 72\n",
    "\n",
    "gen_poisson_gp2 = sm.GeneralizedPoisson(train_series.values, X['const'].values, p=2)\n",
    "\n",
    "gen_poisson_gp2_results = gen_poisson_gp2.fit()\n",
    "\n",
    "print(gen_poisson_gp2_results.summary())\n"
   ]
  },
  {
   "cell_type": "code",
   "execution_count": null,
   "id": "8065aa86-a9e3-4860-a72b-b36a634e6ad3",
   "metadata": {},
   "outputs": [],
   "source": [
    "import numpy as np\n",
    "from scipy.special import gammaln\n",
    "\n",
    "def log_likelihood(params, endog, predict, p, _transparams=True):\n",
    "    if _transparams:\n",
    "        alpha = np.exp(params[-1])\n",
    "    else:\n",
    "        alpha = params[-1]\n",
    "    params = params[:-1]\n",
    "    \n",
    "    mu = predict(params)\n",
    "    mu_p = np.power(mu, p)\n",
    "    a1 = 1 + alpha * mu_p\n",
    "    a2 = mu + (a1 - 1) * endog\n",
    "    a1 = np.maximum(1e-20, a1)\n",
    "    a2 = np.maximum(1e-20, a2)\n",
    "    \n",
    "    return np.sum(np.log(mu) + (endog - 1) * np.log(a2) - endog * np.log(a1) - gammaln(endog + 1) - a2 / a1)\n"
   ]
  },
  {
   "cell_type": "code",
   "execution_count": 4,
   "id": "31be3b9c-4558-4343-af2e-723b167a39f5",
   "metadata": {},
   "outputs": [],
   "source": [
    "import numpy as np\n",
    "from scipy.special import gammaln\n",
    "\n",
    "# theta is mean\n",
    "# lambda is alpha\n",
    "# lambda is supposed to lie between 0 and 1\n",
    "# This may not account for under dispersion\n",
    "def dgp(y, theta, lmbda, logged=True):\n",
    "    den = np.log(theta) + (y - 1) * np.log(theta + lmbda * y) - theta - y * lmbda - gammaln(y + 1)\n",
    "    if not logged:\n",
    "        den = np.exp(den)\n",
    "    return den\n"
   ]
  },
  {
   "cell_type": "code",
   "execution_count": null,
   "id": "3abf79da-a2f1-42c0-961d-0cc0763cc3af",
   "metadata": {},
   "outputs": [],
   "source": [
    "# Maximum Likelihood Estimation\n",
    "# estimating parameters that maximise the likelihood so that observed data belongs to distribution\n",
    "\n",
    "# In likelihood function - maximise theta for data x1,x2,x3\n",
    "# Likelihood will have a value\n",
    "# Likelihood is the probability density function\n",
    "# combined likelihood of all n points is product of individual likelihoods\n",
    "# can find derivative of likelihood and set it to 0\n",
    "# can then solve for parameter"
   ]
  },
  {
   "cell_type": "code",
   "execution_count": 15,
   "id": "8ddce8f2-509a-4eea-9ff3-e08ebc06402d",
   "metadata": {},
   "outputs": [
    {
     "data": {
      "text/plain": [
       "2.718281828459045"
      ]
     },
     "execution_count": 15,
     "metadata": {},
     "output_type": "execute_result"
    }
   ],
   "source": [
    "np.exp(1)"
   ]
  },
  {
   "cell_type": "code",
   "execution_count": 20,
   "id": "888b462c-0722-413f-afe1-a97079b8fc4b",
   "metadata": {},
   "outputs": [
    {
     "data": {
      "text/plain": [
       "-6.273620631691074"
      ]
     },
     "execution_count": 20,
     "metadata": {},
     "output_type": "execute_result"
    }
   ],
   "source": [
    "np.log(dgp(50,71.2125,-0.0086,False))"
   ]
  },
  {
   "cell_type": "code",
   "execution_count": 14,
   "id": "fdff8c02-8fd9-4b13-b88a-5be6c9a40ca0",
   "metadata": {},
   "outputs": [
    {
     "data": {
      "text/plain": [
       "-3.063619217664126"
      ]
     },
     "execution_count": 14,
     "metadata": {},
     "output_type": "execute_result"
    }
   ],
   "source": [
    "dgp(72,71.2125,-0.0086,True)"
   ]
  },
  {
   "cell_type": "code",
   "execution_count": 192,
   "id": "57b33556-30e2-4243-93d5-c8f3a19e9fbe",
   "metadata": {},
   "outputs": [
    {
     "name": "stdout",
     "output_type": "stream",
     "text": [
      "Probability: 0.5682171105579453\n"
     ]
    }
   ],
   "source": [
    "from scipy.stats import poisson\n",
    "\n",
    "def poisson_probability_range(rate, lower_bound, upper_bound):\n",
    "    lower_prob = poisson.cdf(lower_bound, rate)\n",
    "    upper_prob = poisson.cdf(upper_bound, rate)\n",
    "    return upper_prob - lower_prob\n",
    "\n",
    "rate = 71.2125\n",
    "lower_bound = 0\n",
    "upper_bound = 72\n",
    "\n",
    "probability = poisson_probability_range(rate, lower_bound, upper_bound)\n",
    "print(\"Probability:\", probability)\n"
   ]
  },
  {
   "cell_type": "code",
   "execution_count": 5,
   "id": "11797fe8-8723-47cc-9f63-abdd4910a300",
   "metadata": {},
   "outputs": [
    {
     "name": "stdout",
     "output_type": "stream",
     "text": [
      "Percentage for 50: 0.0018853899080674523\n",
      "Percentage for 51: 0.0026233325957243383\n",
      "Percentage for 52: 0.0035790395643504297\n",
      "Percentage for 53: 0.004789621908706986\n",
      "Percentage for 54: 0.006289442761830549\n",
      "Percentage for 55: 0.008106777486927471\n",
      "Percentage for 56: 0.010260134535584562\n",
      "Percentage for 57: 0.012754547830458974\n",
      "Percentage for 58: 0.015578224493717891\n",
      "Percentage for 59: 0.018699966554318683\n",
      "Percentage for 60: 0.022067769646094675\n",
      "Percentage for 61: 0.025608929777861042\n",
      "Percentage for 62: 0.029231863531213452\n",
      "Percentage for 63: 0.0328296790390344\n",
      "Percentage for 64: 0.03628534429896045\n",
      "Percentage for 65: 0.03947811059569404\n",
      "Percentage for 66: 0.042290688380590774\n",
      "Percentage for 67: 0.04461656443314416\n",
      "Percentage for 68: 0.046366809273524455\n",
      "Percentage for 69: 0.047475759693020064\n",
      "Percentage for 70: 0.04790506907796539\n",
      "Percentage for 71: 0.047645783788440164\n",
      "Percentage for 72: 0.04671830515986662\n",
      "Percentage for 73: 0.04517030736786273\n",
      "Percentage for 74: 0.04307287495498351\n",
      "Percentage for 75: 0.04051527761389822\n",
      "Percentage for 76: 0.037598898109510705\n",
      "Percentage for 77: 0.03443086488046681\n",
      "Percentage for 78: 0.031117915605274906\n",
      "Percentage for 79: 0.02776094122785526\n",
      "Percentage for 80: 0.024450546445735404\n",
      "Percentage for 81: 0.021263830012457307\n",
      "Percentage for 82: 0.01826245387258519\n",
      "Percentage for 83: 0.015491949203747156\n",
      "Percentage for 84: 0.012982110921822212\n",
      "Percentage for 85: 0.010748266351637592\n",
      "Percentage for 86: 0.008793170063553476\n",
      "Percentage for 87: 0.0071092727734813396\n",
      "Percentage for 88: 0.005681132232993781\n",
      "Percentage for 89: 0.004487771109802363\n",
      "Percentage for 90: 0.0035048335018136867\n",
      "Percentage for 91: 0.0027064410839819785\n",
      "Percentage for 92: 0.0020666964077642007\n",
      "Percentage for 93: 0.0015608206678080394\n",
      "Percentage for 94: 0.0011659441340640363\n",
      "Percentage for 95: 0.00086158875513894\n",
      "Percentage for 96: 0.000629894697976165\n",
      "Percentage for 97: 0.0004556471313474116\n",
      "Percentage for 98: 0.0003261581426401222\n",
      "Percentage for 99: 0.00023105315885003707\n",
      "Total percentage: 0.9955338147641496\n"
     ]
    }
   ],
   "source": [
    "# -0.0086\n",
    "# I think I have the pdf now\n",
    "total_percentage = 0\n",
    "for i in range(50, 100):\n",
    "    percentage = dgp(i,71.2125,-0.0086,False)\n",
    "    total_percentage += percentage  # Accumulate percentage in total_percentage\n",
    "    print(f\"Percentage for {i}: {percentage}\")\n",
    "\n",
    "print(\"Total percentage:\", total_percentage)"
   ]
  },
  {
   "cell_type": "code",
   "execution_count": null,
   "id": "1373f434-5c05-4540-ba16-1a02e5b1112d",
   "metadata": {},
   "outputs": [],
   "source": [
    "# theta is mean\n",
    "# lambda is alpha\n",
    "# lambda is supposed to lie between 0 and 1\n",
    "# This may not account for under dispersion\n",
    "\n",
    "def dgp(y, theta, lmbda, logged=True):\n",
    "    den = np.log(theta) + (y - 1) * np.log(theta + lmbda * y) - theta - y * lmbda - gammaln(y + 1)\n",
    "    if not logged:\n",
    "        den = np.exp(den)\n",
    "    return den\n"
   ]
  },
  {
   "cell_type": "code",
   "execution_count": 6,
   "id": "846d3a03-95a0-4277-99bb-aae7d304d8d3",
   "metadata": {},
   "outputs": [
    {
     "name": "stderr",
     "output_type": "stream",
     "text": [
      "INFO:pystan:COMPILING THE C++ CODE FOR MODEL anon_model_b947c2a09dcb99712ab1d45f2dca0ccd NOW.\n"
     ]
    }
   ],
   "source": [
    "import pandas as pd\n",
    "import numpy as np\n",
    "import pystan\n",
    "import arviz as az\n",
    "import matplotlib.pyplot as plt\n",
    "\n",
    "# Try putting log in pmf formula\n",
    "\n",
    "model_code = \"\"\"\n",
    "\n",
    "functions {\n",
    "    real dgp(int k, real lambda, real a) {\n",
    "        real pmf;\n",
    "            pmf = log(log(lambda) + (k - 1) * log(lambda + a * k) - lambda - k * a - lgamma(k + 1));\n",
    "        return pmf;\n",
    "    }\n",
    "}\n",
    "\n",
    "data {\n",
    "  int<lower=0> N; //number of rows in training set\n",
    "  int<lower=0> y[N]; // need to change this from vector(real)\n",
    "} \n",
    "\n",
    "parameters {  \n",
    "// set golfer mean and disperson parameter\n",
    "  real  golfer_lambda;\n",
    "  real <upper=0> golfer_alpha ;  \n",
    "} \n",
    "\n",
    "model {\n",
    "    // set priors\n",
    "    // golfer_lambda ~ normal(72,3);\n",
    "    // golfer_alpha ~ normal(0,1);\n",
    "\n",
    "    // Likelihood using dgp\n",
    "    // removed log\n",
    "    for (i in 1:N)\n",
    "        target += dgp(y[i], golfer_lambda, golfer_alpha);\n",
    "}\n",
    "\n",
    "\n",
    "\"\"\"\n",
    "\n",
    "# Create Model - this will help with recompilation issues\n",
    "# THis runs to compiling stage - takes a while\n",
    "stan_model = pystan.StanModel(model_code=model_code)\n",
    "\n",
    "\n",
    "\n"
   ]
  },
  {
   "cell_type": "code",
   "execution_count": 7,
   "id": "00f3a24c-0158-41b6-b685-c58439bb321a",
   "metadata": {},
   "outputs": [],
   "source": [
    "# Set observed data to now use round score instead of to par\n",
    "observed_round_score = train_series.values\n",
    "\n",
    "model_data = {'N': len(observed_round_score),\n",
    "               'y': observed_round_score}\n",
    "\n",
    "# Initial values for the parameters\n",
    "init_values = {'golfer_lambda': 70.5,\n",
    "               'golfer_alpha': -0.5}"
   ]
  },
  {
   "cell_type": "code",
   "execution_count": 9,
   "id": "0f4e3266-3b4e-4ee8-98a3-1005f90b49c5",
   "metadata": {},
   "outputs": [
    {
     "name": "stdout",
     "output_type": "stream",
     "text": [
      "PyStan version: 2.19.1.1\n"
     ]
    }
   ],
   "source": [
    "import pystan\n",
    "\n",
    "print(\"PyStan version:\", pystan.__version__)\n"
   ]
  },
  {
   "cell_type": "code",
   "execution_count": null,
   "id": "b7f47c34-ba58-4d91-857a-32cffc747cf0",
   "metadata": {},
   "outputs": [],
   "source": [
    "import pystan\n",
    "\n",
    "# Assuming you have already compiled your Stan model and defined your model code, data, and initial values\n",
    "\n",
    "# Compile your Stan model\n",
    "stan_model = pystan.StanModel(model_code=model_code)\n",
    "\n",
    "# Define your initial values\n",
    "init_values = {\n",
    "    'parameter_1': 0,  # Set initial value for parameter 1\n",
    "    'parameter_2': 0   # Set initial value for parameter 2\n",
    "    # Add more parameters as needed\n",
    "}\n",
    "\n",
    "# Sample from the model with specified initial values\n",
    "fit = stan_model.sampling(data=model_data, iter=1000, chains=4, init=[init_values]*4)\n",
    "\n",
    "# Check for any warnings or error messages during sampling\n",
    "print(\"Warnings:\", fit.get_warnings())\n",
    "\n",
    "# Print summary of the sampling results\n",
    "print(fit)\n",
    "\n",
    "# Access convergence diagnostics (e.g., R-hat values)\n",
    "print(\"R-hat values:\", fit.summary()['summary'][:, fit.summary()['summary_colnames'].index('Rhat')])\n"
   ]
  },
  {
   "cell_type": "code",
   "execution_count": 11,
   "id": "240dece8-17c9-489c-b3d8-bb4736e15150",
   "metadata": {},
   "outputs": [
    {
     "name": "stderr",
     "output_type": "stream",
     "text": [
      "INFO:pystan:COMPILING THE C++ CODE FOR MODEL anon_model_b947c2a09dcb99712ab1d45f2dca0ccd NOW.\n"
     ]
    },
    {
     "name": "stdout",
     "output_type": "stream",
     "text": [
      "Initialization failed: Initialization failed.\n"
     ]
    },
    {
     "ename": "NameError",
     "evalue": "name 'fit' is not defined",
     "output_type": "error",
     "traceback": [
      "\u001b[1;31m---------------------------------------------------------------------------\u001b[0m",
      "\u001b[1;31mNameError\u001b[0m                                 Traceback (most recent call last)",
      "\u001b[1;32m~\\AppData\\Local\\Temp/ipykernel_18112/1743719475.py\u001b[0m in \u001b[0;36m<module>\u001b[1;34m\u001b[0m\n\u001b[0;32m     20\u001b[0m \u001b[1;33m\u001b[0m\u001b[0m\n\u001b[0;32m     21\u001b[0m \u001b[1;31m# Check for any warnings or error messages during sampling\u001b[0m\u001b[1;33m\u001b[0m\u001b[1;33m\u001b[0m\u001b[0m\n\u001b[1;32m---> 22\u001b[1;33m \u001b[0mprint\u001b[0m\u001b[1;33m(\u001b[0m\u001b[1;34m\"Warnings:\"\u001b[0m\u001b[1;33m,\u001b[0m \u001b[0mfit\u001b[0m\u001b[1;33m.\u001b[0m\u001b[0mget_warnings\u001b[0m\u001b[1;33m(\u001b[0m\u001b[1;33m)\u001b[0m\u001b[1;33m)\u001b[0m\u001b[1;33m\u001b[0m\u001b[1;33m\u001b[0m\u001b[0m\n\u001b[0m\u001b[0;32m     23\u001b[0m \u001b[1;33m\u001b[0m\u001b[0m\n\u001b[0;32m     24\u001b[0m \u001b[1;31m# Print summary of the sampling results\u001b[0m\u001b[1;33m\u001b[0m\u001b[1;33m\u001b[0m\u001b[0m\n",
      "\u001b[1;31mNameError\u001b[0m: name 'fit' is not defined"
     ]
    }
   ],
   "source": [
    "import pystan\n",
    "\n",
    "# Assuming you have already compiled your Stan model and defined your model code, data, and initial values\n",
    "\n",
    "# Compile your Stan model\n",
    "stan_model = pystan.StanModel(model_code=model_code)\n",
    "\n"
   ]
  },
  {
   "cell_type": "code",
   "execution_count": 12,
   "id": "d88dd9ff-5d54-4107-a599-041cc6969f95",
   "metadata": {},
   "outputs": [
    {
     "name": "stdout",
     "output_type": "stream",
     "text": [
      "Initialization failed: Initialization failed.\n"
     ]
    },
    {
     "ename": "NameError",
     "evalue": "name 'fit' is not defined",
     "output_type": "error",
     "traceback": [
      "\u001b[1;31m---------------------------------------------------------------------------\u001b[0m",
      "\u001b[1;31mNameError\u001b[0m                                 Traceback (most recent call last)",
      "\u001b[1;32m~\\AppData\\Local\\Temp/ipykernel_18112/419516670.py\u001b[0m in \u001b[0;36m<module>\u001b[1;34m\u001b[0m\n\u001b[0;32m      9\u001b[0m \u001b[1;33m\u001b[0m\u001b[0m\n\u001b[0;32m     10\u001b[0m \u001b[1;31m# Check for any warnings or error messages during sampling\u001b[0m\u001b[1;33m\u001b[0m\u001b[1;33m\u001b[0m\u001b[0m\n\u001b[1;32m---> 11\u001b[1;33m \u001b[0mprint\u001b[0m\u001b[1;33m(\u001b[0m\u001b[1;34m\"Warnings:\"\u001b[0m\u001b[1;33m,\u001b[0m \u001b[0mfit\u001b[0m\u001b[1;33m.\u001b[0m\u001b[0mget_warnings\u001b[0m\u001b[1;33m(\u001b[0m\u001b[1;33m)\u001b[0m\u001b[1;33m)\u001b[0m\u001b[1;33m\u001b[0m\u001b[1;33m\u001b[0m\u001b[0m\n\u001b[0m\u001b[0;32m     12\u001b[0m \u001b[1;33m\u001b[0m\u001b[0m\n\u001b[0;32m     13\u001b[0m \u001b[1;31m# Print summary of the sampling results\u001b[0m\u001b[1;33m\u001b[0m\u001b[1;33m\u001b[0m\u001b[0m\n",
      "\u001b[1;31mNameError\u001b[0m: name 'fit' is not defined"
     ]
    }
   ],
   "source": [
    "init_values = {'golfer_lambda': 70.5,\n",
    "               'golfer_alpha': -0.5}\n",
    "\n",
    "# Sample from the model with specified initial values\n",
    "try:\n",
    "    fit = stan_model.sampling(data=model_data, iter=1000, chains=4, init=[init_values]*4)\n",
    "except RuntimeError as e:\n",
    "    print(\"Initialization failed:\", e)\n",
    "\n",
    "# Check for any warnings or error messages during sampling\n",
    "print(\"Warnings:\", fit.get_warnings())\n",
    "\n",
    "# Print summary of the sampling results\n",
    "print(fit)\n",
    "\n",
    "# Access convergence diagnostics (e.g., R-hat values)\n",
    "print(\"R-hat values:\", fit.summary()['summary'][:, fit.summary()['summary_colnames'].index('Rhat')])\n"
   ]
  },
  {
   "cell_type": "code",
   "execution_count": 14,
   "id": "1ab33041-cca4-4ba7-99e1-f8a792b4699f",
   "metadata": {},
   "outputs": [
    {
     "ename": "NameError",
     "evalue": "name 'fit' is not defined",
     "output_type": "error",
     "traceback": [
      "\u001b[1;31m---------------------------------------------------------------------------\u001b[0m",
      "\u001b[1;31mNameError\u001b[0m                                 Traceback (most recent call last)",
      "\u001b[1;32m~\\AppData\\Local\\Temp/ipykernel_18112/2205252792.py\u001b[0m in \u001b[0;36m<module>\u001b[1;34m\u001b[0m\n\u001b[1;32m----> 1\u001b[1;33m \u001b[0mfit\u001b[0m\u001b[1;33m.\u001b[0m\u001b[0mget_warnings\u001b[0m\u001b[1;33m(\u001b[0m\u001b[1;33m)\u001b[0m\u001b[1;33m\u001b[0m\u001b[1;33m\u001b[0m\u001b[0m\n\u001b[0m",
      "\u001b[1;31mNameError\u001b[0m: name 'fit' is not defined"
     ]
    }
   ],
   "source": [
    "fit.get_warnings()"
   ]
  },
  {
   "cell_type": "code",
   "execution_count": 10,
   "id": "8eab6876-dc82-4c76-b225-5681abde6a9b",
   "metadata": {},
   "outputs": [
    {
     "ename": "RuntimeError",
     "evalue": "Initialization failed.",
     "output_type": "error",
     "traceback": [
      "\u001b[1;31m---------------------------------------------------------------------------\u001b[0m",
      "\u001b[1;31mRuntimeError\u001b[0m                              Traceback (most recent call last)",
      "\u001b[1;32m~\\AppData\\Local\\Temp/ipykernel_18112/1673356461.py\u001b[0m in \u001b[0;36m<module>\u001b[1;34m\u001b[0m\n\u001b[0;32m      1\u001b[0m \u001b[1;31m# fit model\u001b[0m\u001b[1;33m\u001b[0m\u001b[1;33m\u001b[0m\u001b[0m\n\u001b[1;32m----> 2\u001b[1;33m \u001b[0mfit\u001b[0m \u001b[1;33m=\u001b[0m \u001b[0mstan_model\u001b[0m\u001b[1;33m.\u001b[0m\u001b[0msampling\u001b[0m\u001b[1;33m(\u001b[0m\u001b[0mdata\u001b[0m\u001b[1;33m=\u001b[0m\u001b[0mmodel_data\u001b[0m\u001b[1;33m,\u001b[0m \u001b[0miter\u001b[0m\u001b[1;33m=\u001b[0m\u001b[1;36m2000\u001b[0m\u001b[1;33m,\u001b[0m \u001b[0mchains\u001b[0m\u001b[1;33m=\u001b[0m\u001b[1;36m1\u001b[0m\u001b[1;33m,\u001b[0m \u001b[0mseed\u001b[0m \u001b[1;33m=\u001b[0m \u001b[1;36m1\u001b[0m\u001b[1;33m,\u001b[0m \u001b[0minit\u001b[0m\u001b[1;33m=\u001b[0m\u001b[1;33m[\u001b[0m\u001b[0minit_values\u001b[0m\u001b[1;33m]\u001b[0m\u001b[1;33m)\u001b[0m\u001b[1;33m\u001b[0m\u001b[1;33m\u001b[0m\u001b[0m\n\u001b[0m\u001b[0;32m      3\u001b[0m \u001b[1;31m# Check for any warnings or error messages during sampling\u001b[0m\u001b[1;33m\u001b[0m\u001b[1;33m\u001b[0m\u001b[0m\n\u001b[0;32m      4\u001b[0m \u001b[0mprint\u001b[0m\u001b[1;33m(\u001b[0m\u001b[1;34m\"Warnings:\"\u001b[0m\u001b[1;33m,\u001b[0m \u001b[0mfit\u001b[0m\u001b[1;33m.\u001b[0m\u001b[0mget_warnings\u001b[0m\u001b[1;33m(\u001b[0m\u001b[1;33m)\u001b[0m\u001b[1;33m)\u001b[0m\u001b[1;33m\u001b[0m\u001b[1;33m\u001b[0m\u001b[0m\n",
      "\u001b[1;32m~\\anaconda3\\envs\\stan_2\\lib\\site-packages\\pystan\\model.py\u001b[0m in \u001b[0;36msampling\u001b[1;34m(self, data, pars, chains, iter, warmup, thin, seed, init, sample_file, diagnostic_file, verbose, algorithm, control, n_jobs, **kwargs)\u001b[0m\n\u001b[0;32m    811\u001b[0m         \u001b[0mcall_sampler_args\u001b[0m \u001b[1;33m=\u001b[0m \u001b[0mizip\u001b[0m\u001b[1;33m(\u001b[0m\u001b[0mitertools\u001b[0m\u001b[1;33m.\u001b[0m\u001b[0mrepeat\u001b[0m\u001b[1;33m(\u001b[0m\u001b[0mdata\u001b[0m\u001b[1;33m)\u001b[0m\u001b[1;33m,\u001b[0m \u001b[0margs_list\u001b[0m\u001b[1;33m,\u001b[0m \u001b[0mitertools\u001b[0m\u001b[1;33m.\u001b[0m\u001b[0mrepeat\u001b[0m\u001b[1;33m(\u001b[0m\u001b[0mpars\u001b[0m\u001b[1;33m)\u001b[0m\u001b[1;33m)\u001b[0m\u001b[1;33m\u001b[0m\u001b[1;33m\u001b[0m\u001b[0m\n\u001b[0;32m    812\u001b[0m         \u001b[0mcall_sampler_star\u001b[0m \u001b[1;33m=\u001b[0m \u001b[0mself\u001b[0m\u001b[1;33m.\u001b[0m\u001b[0mmodule\u001b[0m\u001b[1;33m.\u001b[0m\u001b[0m_call_sampler_star\u001b[0m\u001b[1;33m\u001b[0m\u001b[1;33m\u001b[0m\u001b[0m\n\u001b[1;32m--> 813\u001b[1;33m         \u001b[0mret_and_samples\u001b[0m \u001b[1;33m=\u001b[0m \u001b[0m_map_parallel\u001b[0m\u001b[1;33m(\u001b[0m\u001b[0mcall_sampler_star\u001b[0m\u001b[1;33m,\u001b[0m \u001b[0mcall_sampler_args\u001b[0m\u001b[1;33m,\u001b[0m \u001b[0mn_jobs\u001b[0m\u001b[1;33m)\u001b[0m\u001b[1;33m\u001b[0m\u001b[1;33m\u001b[0m\u001b[0m\n\u001b[0m\u001b[0;32m    814\u001b[0m         \u001b[0msamples\u001b[0m \u001b[1;33m=\u001b[0m \u001b[1;33m[\u001b[0m\u001b[0msmpl\u001b[0m \u001b[1;32mfor\u001b[0m \u001b[0m_\u001b[0m\u001b[1;33m,\u001b[0m \u001b[0msmpl\u001b[0m \u001b[1;32min\u001b[0m \u001b[0mret_and_samples\u001b[0m\u001b[1;33m]\u001b[0m\u001b[1;33m\u001b[0m\u001b[1;33m\u001b[0m\u001b[0m\n\u001b[0;32m    815\u001b[0m \u001b[1;33m\u001b[0m\u001b[0m\n",
      "\u001b[1;32m~\\anaconda3\\envs\\stan_2\\lib\\site-packages\\pystan\\model.py\u001b[0m in \u001b[0;36m_map_parallel\u001b[1;34m(function, args, n_jobs)\u001b[0m\n\u001b[0;32m     88\u001b[0m             \u001b[0mpool\u001b[0m\u001b[1;33m.\u001b[0m\u001b[0mjoin\u001b[0m\u001b[1;33m(\u001b[0m\u001b[1;33m)\u001b[0m\u001b[1;33m\u001b[0m\u001b[1;33m\u001b[0m\u001b[0m\n\u001b[0;32m     89\u001b[0m     \u001b[1;32melse\u001b[0m\u001b[1;33m:\u001b[0m\u001b[1;33m\u001b[0m\u001b[1;33m\u001b[0m\u001b[0m\n\u001b[1;32m---> 90\u001b[1;33m         \u001b[0mmap_result\u001b[0m \u001b[1;33m=\u001b[0m \u001b[0mlist\u001b[0m\u001b[1;33m(\u001b[0m\u001b[0mmap\u001b[0m\u001b[1;33m(\u001b[0m\u001b[0mfunction\u001b[0m\u001b[1;33m,\u001b[0m \u001b[0margs\u001b[0m\u001b[1;33m)\u001b[0m\u001b[1;33m)\u001b[0m\u001b[1;33m\u001b[0m\u001b[1;33m\u001b[0m\u001b[0m\n\u001b[0m\u001b[0;32m     91\u001b[0m     \u001b[1;32mreturn\u001b[0m \u001b[0mmap_result\u001b[0m\u001b[1;33m\u001b[0m\u001b[1;33m\u001b[0m\u001b[0m\n\u001b[0;32m     92\u001b[0m \u001b[1;33m\u001b[0m\u001b[0m\n",
      "\u001b[1;32mstanfit4anon_model_b947c2a09dcb99712ab1d45f2dca0ccd_5074934261222172377.pyx\u001b[0m in \u001b[0;36mstanfit4anon_model_b947c2a09dcb99712ab1d45f2dca0ccd_5074934261222172377._call_sampler_star\u001b[1;34m()\u001b[0m\n",
      "\u001b[1;32mstanfit4anon_model_b947c2a09dcb99712ab1d45f2dca0ccd_5074934261222172377.pyx\u001b[0m in \u001b[0;36mstanfit4anon_model_b947c2a09dcb99712ab1d45f2dca0ccd_5074934261222172377._call_sampler\u001b[1;34m()\u001b[0m\n",
      "\u001b[1;31mRuntimeError\u001b[0m: Initialization failed."
     ]
    }
   ],
   "source": [
    "# fit model\n",
    "fit = stan_model.sampling(data=model_data, iter=2000, chains=1, seed = 1, init=[init_values])\n",
    "# Check for any warnings or error messages during sampling\n",
    "print(\"Warnings:\", fit.get_warnings())"
   ]
  },
  {
   "cell_type": "code",
   "execution_count": null,
   "id": "399b62a3-9e0c-42bf-99de-07bf7404bf05",
   "metadata": {},
   "outputs": [],
   "source": [
    "\n",
    "# Put Posterior draws into a dictionary\n",
    "#trace = fit.extract()\n",
    "\n",
    "\n",
    "# Put simulations into an array\n",
    "#y_sim = trace['y_sim']\n",
    "\n",
    "# Create summary dictionary\n",
    "summary_dict = fit.summary()\n",
    "\n",
    "# get trace summary\n",
    "trace_summary = pd.DataFrame(summary_dict['summary'], \n",
    "                  columns=summary_dict['summary_colnames'], \n",
    "                  index=summary_dict['summary_rownames'])\n",
    "\n",
    "\n",
    "# Print trace summary\n",
    "trace_summary"
   ]
  },
  {
   "cell_type": "code",
   "execution_count": 27,
   "id": "9e0bbc4e-3b75-4173-9c78-0afbea290d3f",
   "metadata": {},
   "outputs": [
    {
     "ename": "NameError",
     "evalue": "name 'fit' is not defined",
     "output_type": "error",
     "traceback": [
      "\u001b[1;31m---------------------------------------------------------------------------\u001b[0m",
      "\u001b[1;31mNameError\u001b[0m                                 Traceback (most recent call last)",
      "\u001b[1;32m~\\AppData\\Local\\Temp/ipykernel_1196/3029832498.py\u001b[0m in \u001b[0;36m<module>\u001b[1;34m\u001b[0m\n\u001b[0;32m      6\u001b[0m \u001b[1;33m\u001b[0m\u001b[0m\n\u001b[0;32m      7\u001b[0m \u001b[1;31m# Check for any warnings or error messages during sampling\u001b[0m\u001b[1;33m\u001b[0m\u001b[1;33m\u001b[0m\u001b[0m\n\u001b[1;32m----> 8\u001b[1;33m \u001b[0mprint\u001b[0m\u001b[1;33m(\u001b[0m\u001b[0mfit\u001b[0m\u001b[1;33m.\u001b[0m\u001b[0mget_warnings\u001b[0m\u001b[1;33m(\u001b[0m\u001b[1;33m)\u001b[0m\u001b[1;33m)\u001b[0m\u001b[1;33m\u001b[0m\u001b[1;33m\u001b[0m\u001b[0m\n\u001b[0m\u001b[0;32m      9\u001b[0m \u001b[1;33m\u001b[0m\u001b[0m\n\u001b[0;32m     10\u001b[0m \u001b[1;31m# Check for any convergence issues or other diagnostics\u001b[0m\u001b[1;33m\u001b[0m\u001b[1;33m\u001b[0m\u001b[0m\n",
      "\u001b[1;31mNameError\u001b[0m: name 'fit' is not defined"
     ]
    }
   ],
   "source": [
    "import pystan\n",
    "\n",
    "# Assuming you've already compiled your Stan model and obtained the fit object\n",
    "# Example: stan_model = pystan.StanModel(model_code=model_code)\n",
    "#          fit = stan_model.sampling(data=model_data, iter=1000, chains=4)\n",
    "\n",
    "# Check for any warnings or error messages during sampling\n",
    "print(fit.get_warnings())\n",
    "\n",
    "# Check for any convergence issues or other diagnostics\n",
    "print(fit)\n",
    "\n",
    "# Optionally, you can also access specific diagnostics such as R-hat values\n",
    "print(\"R-hat values:\")\n",
    "print(fit.summary()['summary'][:, fit.summary()['summary_colnames'].index('Rhat')])\n"
   ]
  },
  {
   "cell_type": "code",
   "execution_count": 28,
   "id": "00a1bd92-c99c-4c93-8146-bbf2fe3429f8",
   "metadata": {},
   "outputs": [
    {
     "ename": "NameError",
     "evalue": "name 'fit' is not defined",
     "output_type": "error",
     "traceback": [
      "\u001b[1;31m---------------------------------------------------------------------------\u001b[0m",
      "\u001b[1;31mNameError\u001b[0m                                 Traceback (most recent call last)",
      "\u001b[1;32m~\\AppData\\Local\\Temp/ipykernel_1196/2535367933.py\u001b[0m in \u001b[0;36m<module>\u001b[1;34m\u001b[0m\n\u001b[1;32m----> 1\u001b[1;33m \u001b[0mfit\u001b[0m\u001b[1;33m.\u001b[0m\u001b[0mget_inits\u001b[0m\u001b[1;33m(\u001b[0m\u001b[1;33m)\u001b[0m\u001b[1;33m\u001b[0m\u001b[1;33m\u001b[0m\u001b[0m\n\u001b[0m",
      "\u001b[1;31mNameError\u001b[0m: name 'fit' is not defined"
     ]
    }
   ],
   "source": [
    "fit.get_inits()"
   ]
  },
  {
   "cell_type": "code",
   "execution_count": 29,
   "id": "f5053dd4-d8b3-4575-9422-eb6387dd8299",
   "metadata": {},
   "outputs": [
    {
     "data": {
      "text/plain": [
       "array([71, 71, 71, 68, 70, 68, 75, 75, 72, 74, 70, 71, 72, 76, 74, 73, 71,\n",
       "       71, 77, 70, 72, 75, 72, 76, 78, 73, 78, 74, 67, 73, 69, 74, 70, 72,\n",
       "       68, 72, 70, 69, 77, 68, 72, 68, 67, 69, 68, 69, 72, 72, 67, 71, 74,\n",
       "       70, 70, 66, 70, 71, 75, 73, 77, 69, 65, 75, 69, 69, 69, 72, 68, 64,\n",
       "       69, 71, 69, 68, 69, 65, 79, 67, 76, 74, 72, 70], dtype=int64)"
      ]
     },
     "execution_count": 29,
     "metadata": {},
     "output_type": "execute_result"
    }
   ],
   "source": [
    "observed_round_score"
   ]
  },
  {
   "cell_type": "code",
   "execution_count": 4,
   "id": "b3a8a14a-b82d-4ba8-b37a-26de2a341cfa",
   "metadata": {},
   "outputs": [
    {
     "name": "stderr",
     "output_type": "stream",
     "text": [
      "INFO:pystan:COMPILING THE C++ CODE FOR MODEL anon_model_0c8c05320f4b8dfedc6b5e8b207b41c7 NOW.\n"
     ]
    },
    {
     "ename": "RuntimeError",
     "evalue": "Initialization failed.",
     "output_type": "error",
     "traceback": [
      "\u001b[1;31m---------------------------------------------------------------------------\u001b[0m",
      "\u001b[1;31mRemoteTraceback\u001b[0m                           Traceback (most recent call last)",
      "\u001b[1;31mRemoteTraceback\u001b[0m: \n\"\"\"\nTraceback (most recent call last):\n  File \"C:\\Users\\killi\\anaconda3\\envs\\stan_2\\lib\\multiprocessing\\pool.py\", line 125, in worker\n    result = (True, func(*args, **kwds))\n  File \"C:\\Users\\killi\\anaconda3\\envs\\stan_2\\lib\\multiprocessing\\pool.py\", line 48, in mapstar\n    return list(map(*args))\n  File \"stanfit4anon_model_0c8c05320f4b8dfedc6b5e8b207b41c7_4975001739660897147.pyx\", line 373, in stanfit4anon_model_0c8c05320f4b8dfedc6b5e8b207b41c7_4975001739660897147._call_sampler_star\n  File \"stanfit4anon_model_0c8c05320f4b8dfedc6b5e8b207b41c7_4975001739660897147.pyx\", line 406, in stanfit4anon_model_0c8c05320f4b8dfedc6b5e8b207b41c7_4975001739660897147._call_sampler\nRuntimeError: Initialization failed.\n\"\"\"",
      "\nThe above exception was the direct cause of the following exception:\n",
      "\u001b[1;31mRuntimeError\u001b[0m                              Traceback (most recent call last)",
      "\u001b[1;32m~\\AppData\\Local\\Temp/ipykernel_19812/2000510038.py\u001b[0m in \u001b[0;36m<module>\u001b[1;34m\u001b[0m\n\u001b[0;32m     54\u001b[0m \u001b[1;33m\u001b[0m\u001b[0m\n\u001b[0;32m     55\u001b[0m \u001b[1;31m# fit model\u001b[0m\u001b[1;33m\u001b[0m\u001b[1;33m\u001b[0m\u001b[0m\n\u001b[1;32m---> 56\u001b[1;33m \u001b[0mfit\u001b[0m \u001b[1;33m=\u001b[0m \u001b[0mstan_model\u001b[0m\u001b[1;33m.\u001b[0m\u001b[0msampling\u001b[0m\u001b[1;33m(\u001b[0m\u001b[0mdata\u001b[0m\u001b[1;33m=\u001b[0m\u001b[0mmodel_data\u001b[0m\u001b[1;33m,\u001b[0m \u001b[0miter\u001b[0m\u001b[1;33m=\u001b[0m\u001b[1;36m20\u001b[0m\u001b[1;33m,\u001b[0m \u001b[0mchains\u001b[0m\u001b[1;33m=\u001b[0m\u001b[1;36m3\u001b[0m\u001b[1;33m,\u001b[0m \u001b[0mseed\u001b[0m\u001b[1;33m=\u001b[0m\u001b[1;36m1\u001b[0m\u001b[1;33m)\u001b[0m\u001b[1;33m\u001b[0m\u001b[1;33m\u001b[0m\u001b[0m\n\u001b[0m\u001b[0;32m     57\u001b[0m \u001b[1;33m\u001b[0m\u001b[0m\n\u001b[0;32m     58\u001b[0m \u001b[1;31m# Put Posterior draws into a dictionary\u001b[0m\u001b[1;33m\u001b[0m\u001b[1;33m\u001b[0m\u001b[0m\n",
      "\u001b[1;32m~\\anaconda3\\envs\\stan_2\\lib\\site-packages\\pystan\\model.py\u001b[0m in \u001b[0;36msampling\u001b[1;34m(self, data, pars, chains, iter, warmup, thin, seed, init, sample_file, diagnostic_file, verbose, algorithm, control, n_jobs, **kwargs)\u001b[0m\n\u001b[0;32m    811\u001b[0m         \u001b[0mcall_sampler_args\u001b[0m \u001b[1;33m=\u001b[0m \u001b[0mizip\u001b[0m\u001b[1;33m(\u001b[0m\u001b[0mitertools\u001b[0m\u001b[1;33m.\u001b[0m\u001b[0mrepeat\u001b[0m\u001b[1;33m(\u001b[0m\u001b[0mdata\u001b[0m\u001b[1;33m)\u001b[0m\u001b[1;33m,\u001b[0m \u001b[0margs_list\u001b[0m\u001b[1;33m,\u001b[0m \u001b[0mitertools\u001b[0m\u001b[1;33m.\u001b[0m\u001b[0mrepeat\u001b[0m\u001b[1;33m(\u001b[0m\u001b[0mpars\u001b[0m\u001b[1;33m)\u001b[0m\u001b[1;33m)\u001b[0m\u001b[1;33m\u001b[0m\u001b[1;33m\u001b[0m\u001b[0m\n\u001b[0;32m    812\u001b[0m         \u001b[0mcall_sampler_star\u001b[0m \u001b[1;33m=\u001b[0m \u001b[0mself\u001b[0m\u001b[1;33m.\u001b[0m\u001b[0mmodule\u001b[0m\u001b[1;33m.\u001b[0m\u001b[0m_call_sampler_star\u001b[0m\u001b[1;33m\u001b[0m\u001b[1;33m\u001b[0m\u001b[0m\n\u001b[1;32m--> 813\u001b[1;33m         \u001b[0mret_and_samples\u001b[0m \u001b[1;33m=\u001b[0m \u001b[0m_map_parallel\u001b[0m\u001b[1;33m(\u001b[0m\u001b[0mcall_sampler_star\u001b[0m\u001b[1;33m,\u001b[0m \u001b[0mcall_sampler_args\u001b[0m\u001b[1;33m,\u001b[0m \u001b[0mn_jobs\u001b[0m\u001b[1;33m)\u001b[0m\u001b[1;33m\u001b[0m\u001b[1;33m\u001b[0m\u001b[0m\n\u001b[0m\u001b[0;32m    814\u001b[0m         \u001b[0msamples\u001b[0m \u001b[1;33m=\u001b[0m \u001b[1;33m[\u001b[0m\u001b[0msmpl\u001b[0m \u001b[1;32mfor\u001b[0m \u001b[0m_\u001b[0m\u001b[1;33m,\u001b[0m \u001b[0msmpl\u001b[0m \u001b[1;32min\u001b[0m \u001b[0mret_and_samples\u001b[0m\u001b[1;33m]\u001b[0m\u001b[1;33m\u001b[0m\u001b[1;33m\u001b[0m\u001b[0m\n\u001b[0;32m    815\u001b[0m \u001b[1;33m\u001b[0m\u001b[0m\n",
      "\u001b[1;32m~\\anaconda3\\envs\\stan_2\\lib\\site-packages\\pystan\\model.py\u001b[0m in \u001b[0;36m_map_parallel\u001b[1;34m(function, args, n_jobs)\u001b[0m\n\u001b[0;32m     83\u001b[0m         \u001b[1;32mtry\u001b[0m\u001b[1;33m:\u001b[0m\u001b[1;33m\u001b[0m\u001b[1;33m\u001b[0m\u001b[0m\n\u001b[0;32m     84\u001b[0m             \u001b[0mpool\u001b[0m \u001b[1;33m=\u001b[0m \u001b[0mmultiprocessing\u001b[0m\u001b[1;33m.\u001b[0m\u001b[0mPool\u001b[0m\u001b[1;33m(\u001b[0m\u001b[0mprocesses\u001b[0m\u001b[1;33m=\u001b[0m\u001b[0mn_jobs\u001b[0m\u001b[1;33m)\u001b[0m\u001b[1;33m\u001b[0m\u001b[1;33m\u001b[0m\u001b[0m\n\u001b[1;32m---> 85\u001b[1;33m             \u001b[0mmap_result\u001b[0m \u001b[1;33m=\u001b[0m \u001b[0mpool\u001b[0m\u001b[1;33m.\u001b[0m\u001b[0mmap\u001b[0m\u001b[1;33m(\u001b[0m\u001b[0mfunction\u001b[0m\u001b[1;33m,\u001b[0m \u001b[0margs\u001b[0m\u001b[1;33m)\u001b[0m\u001b[1;33m\u001b[0m\u001b[1;33m\u001b[0m\u001b[0m\n\u001b[0m\u001b[0;32m     86\u001b[0m         \u001b[1;32mfinally\u001b[0m\u001b[1;33m:\u001b[0m\u001b[1;33m\u001b[0m\u001b[1;33m\u001b[0m\u001b[0m\n\u001b[0;32m     87\u001b[0m             \u001b[0mpool\u001b[0m\u001b[1;33m.\u001b[0m\u001b[0mclose\u001b[0m\u001b[1;33m(\u001b[0m\u001b[1;33m)\u001b[0m\u001b[1;33m\u001b[0m\u001b[1;33m\u001b[0m\u001b[0m\n",
      "\u001b[1;32m~\\anaconda3\\envs\\stan_2\\lib\\multiprocessing\\pool.py\u001b[0m in \u001b[0;36mmap\u001b[1;34m(self, func, iterable, chunksize)\u001b[0m\n\u001b[0;32m    362\u001b[0m         \u001b[1;32min\u001b[0m \u001b[0ma\u001b[0m \u001b[0mlist\u001b[0m \u001b[0mthat\u001b[0m \u001b[1;32mis\u001b[0m \u001b[0mreturned\u001b[0m\u001b[1;33m.\u001b[0m\u001b[1;33m\u001b[0m\u001b[1;33m\u001b[0m\u001b[0m\n\u001b[0;32m    363\u001b[0m         '''\n\u001b[1;32m--> 364\u001b[1;33m         \u001b[1;32mreturn\u001b[0m \u001b[0mself\u001b[0m\u001b[1;33m.\u001b[0m\u001b[0m_map_async\u001b[0m\u001b[1;33m(\u001b[0m\u001b[0mfunc\u001b[0m\u001b[1;33m,\u001b[0m \u001b[0miterable\u001b[0m\u001b[1;33m,\u001b[0m \u001b[0mmapstar\u001b[0m\u001b[1;33m,\u001b[0m \u001b[0mchunksize\u001b[0m\u001b[1;33m)\u001b[0m\u001b[1;33m.\u001b[0m\u001b[0mget\u001b[0m\u001b[1;33m(\u001b[0m\u001b[1;33m)\u001b[0m\u001b[1;33m\u001b[0m\u001b[1;33m\u001b[0m\u001b[0m\n\u001b[0m\u001b[0;32m    365\u001b[0m \u001b[1;33m\u001b[0m\u001b[0m\n\u001b[0;32m    366\u001b[0m     \u001b[1;32mdef\u001b[0m \u001b[0mstarmap\u001b[0m\u001b[1;33m(\u001b[0m\u001b[0mself\u001b[0m\u001b[1;33m,\u001b[0m \u001b[0mfunc\u001b[0m\u001b[1;33m,\u001b[0m \u001b[0miterable\u001b[0m\u001b[1;33m,\u001b[0m \u001b[0mchunksize\u001b[0m\u001b[1;33m=\u001b[0m\u001b[1;32mNone\u001b[0m\u001b[1;33m)\u001b[0m\u001b[1;33m:\u001b[0m\u001b[1;33m\u001b[0m\u001b[1;33m\u001b[0m\u001b[0m\n",
      "\u001b[1;32m~\\anaconda3\\envs\\stan_2\\lib\\multiprocessing\\pool.py\u001b[0m in \u001b[0;36mget\u001b[1;34m(self, timeout)\u001b[0m\n\u001b[0;32m    769\u001b[0m             \u001b[1;32mreturn\u001b[0m \u001b[0mself\u001b[0m\u001b[1;33m.\u001b[0m\u001b[0m_value\u001b[0m\u001b[1;33m\u001b[0m\u001b[1;33m\u001b[0m\u001b[0m\n\u001b[0;32m    770\u001b[0m         \u001b[1;32melse\u001b[0m\u001b[1;33m:\u001b[0m\u001b[1;33m\u001b[0m\u001b[1;33m\u001b[0m\u001b[0m\n\u001b[1;32m--> 771\u001b[1;33m             \u001b[1;32mraise\u001b[0m \u001b[0mself\u001b[0m\u001b[1;33m.\u001b[0m\u001b[0m_value\u001b[0m\u001b[1;33m\u001b[0m\u001b[1;33m\u001b[0m\u001b[0m\n\u001b[0m\u001b[0;32m    772\u001b[0m \u001b[1;33m\u001b[0m\u001b[0m\n\u001b[0;32m    773\u001b[0m     \u001b[1;32mdef\u001b[0m \u001b[0m_set\u001b[0m\u001b[1;33m(\u001b[0m\u001b[0mself\u001b[0m\u001b[1;33m,\u001b[0m \u001b[0mi\u001b[0m\u001b[1;33m,\u001b[0m \u001b[0mobj\u001b[0m\u001b[1;33m)\u001b[0m\u001b[1;33m:\u001b[0m\u001b[1;33m\u001b[0m\u001b[1;33m\u001b[0m\u001b[0m\n",
      "\u001b[1;31mRuntimeError\u001b[0m: Initialization failed."
     ]
    }
   ],
   "source": [
    "import pandas as pd\n",
    "import numpy as np\n",
    "import pystan\n",
    "import arviz as az\n",
    "import matplotlib.pyplot as plt\n",
    "\n",
    "# Poisson Generalised Model \n",
    "# Think this formula could be the log likelihood\n",
    "\n",
    "model_code = \"\"\"\n",
    "\n",
    "functions {\n",
    "    real dgp(int k, real lambda, real a) {\n",
    "        real pmf;\n",
    "            pmf = log(lambda) + (k - 1) * log(lambda + a * k) - lambda - k * a - lgamma(k + 1);\n",
    "        return pmf;\n",
    "    }\n",
    "}\n",
    "\n",
    "data {\n",
    "  int<lower=0> N; //number of rows in training set\n",
    "  int<lower=0> y[N]; // need to change this from vector(real)\n",
    "} \n",
    "\n",
    "parameters {  \n",
    "// set golfer mean and disperson parameter\n",
    "  real  golfer_lambda;\n",
    "  real  golfer_alpha;  \n",
    "} \n",
    "\n",
    "model {\n",
    "    // set priors\n",
    "    golfer_lambda ~ normal(72,3);\n",
    "    golfer_alpha ~ normal(0,1);\n",
    "\n",
    "    // Likelihood using dgp\n",
    "    // removed log\n",
    "    for (i in 1:N)\n",
    "        target += log(dgp(y[i], golfer_lambda, golfer_alpha));\n",
    "}\n",
    "\n",
    "\n",
    "\"\"\"\n",
    "\n",
    "# Set observed data to now use round score instead of to par\n",
    "observed_round_score = train_series.values\n",
    "\n",
    "model_data = {'N': len(observed_round_score),\n",
    "               'y': observed_round_score}\n",
    "\n",
    "\n",
    "# Create Model - this will help with recompilation issues\n",
    "stan_model = pystan.StanModel(model_code=model_code)\n",
    "\n",
    "# fit model\n",
    "fit = stan_model.sampling(data=model_data, iter=20, chains=3, seed=1)\n",
    "\n",
    "# Put Posterior draws into a dictionary\n",
    "#trace = fit.extract()\n",
    "\n",
    "\n",
    "# Put simulations into an array\n",
    "#y_sim = trace['y_sim']\n",
    "\n",
    "# Create summary dictionary\n",
    "summary_dict = fit.summary()\n",
    "\n",
    "# get trace summary\n",
    "trace_summary = pd.DataFrame(summary_dict['summary'], \n",
    "                  columns=summary_dict['summary_colnames'], \n",
    "                  index=summary_dict['summary_rownames'])\n",
    "\n",
    "\n",
    "# Print trace summary\n",
    "trace_summary"
   ]
  },
  {
   "cell_type": "code",
   "execution_count": null,
   "id": "9569c7ce-e8b4-4d63-8438-ad2f66a1fb40",
   "metadata": {},
   "outputs": [],
   "source": []
  },
  {
   "cell_type": "code",
   "execution_count": 49,
   "id": "db04e975-f71d-4bfd-88b7-c34f1dd6befb",
   "metadata": {},
   "outputs": [
    {
     "name": "stderr",
     "output_type": "stream",
     "text": [
      "INFO:pystan:COMPILING THE C++ CODE FOR MODEL anon_model_3da2ec3640b03a9e12887f72a62450d3 NOW.\n"
     ]
    },
    {
     "ename": "RuntimeError",
     "evalue": "Initialization failed.",
     "output_type": "error",
     "traceback": [
      "\u001b[1;31m---------------------------------------------------------------------------\u001b[0m",
      "\u001b[1;31mRemoteTraceback\u001b[0m                           Traceback (most recent call last)",
      "\u001b[1;31mRemoteTraceback\u001b[0m: \n\"\"\"\nTraceback (most recent call last):\n  File \"C:\\Users\\killi\\anaconda3\\envs\\stan_2\\lib\\multiprocessing\\pool.py\", line 125, in worker\n    result = (True, func(*args, **kwds))\n  File \"C:\\Users\\killi\\anaconda3\\envs\\stan_2\\lib\\multiprocessing\\pool.py\", line 48, in mapstar\n    return list(map(*args))\n  File \"stanfit4anon_model_3da2ec3640b03a9e12887f72a62450d3_4190742607667941084.pyx\", line 373, in stanfit4anon_model_3da2ec3640b03a9e12887f72a62450d3_4190742607667941084._call_sampler_star\n  File \"stanfit4anon_model_3da2ec3640b03a9e12887f72a62450d3_4190742607667941084.pyx\", line 406, in stanfit4anon_model_3da2ec3640b03a9e12887f72a62450d3_4190742607667941084._call_sampler\nRuntimeError: Initialization failed.\n\"\"\"",
      "\nThe above exception was the direct cause of the following exception:\n",
      "\u001b[1;31mRuntimeError\u001b[0m                              Traceback (most recent call last)",
      "\u001b[1;32m~\\AppData\\Local\\Temp/ipykernel_15080/859704180.py\u001b[0m in \u001b[0;36m<module>\u001b[1;34m\u001b[0m\n\u001b[0;32m     57\u001b[0m \u001b[1;33m\u001b[0m\u001b[0m\n\u001b[0;32m     58\u001b[0m \u001b[1;31m# fit model\u001b[0m\u001b[1;33m\u001b[0m\u001b[1;33m\u001b[0m\u001b[0m\n\u001b[1;32m---> 59\u001b[1;33m \u001b[0mfit\u001b[0m \u001b[1;33m=\u001b[0m \u001b[0mstan_model\u001b[0m\u001b[1;33m.\u001b[0m\u001b[0msampling\u001b[0m\u001b[1;33m(\u001b[0m\u001b[0mdata\u001b[0m\u001b[1;33m=\u001b[0m\u001b[0mmodel_data\u001b[0m\u001b[1;33m,\u001b[0m \u001b[0miter\u001b[0m\u001b[1;33m=\u001b[0m\u001b[1;36m2000\u001b[0m\u001b[1;33m,\u001b[0m \u001b[0mchains\u001b[0m\u001b[1;33m=\u001b[0m\u001b[1;36m3\u001b[0m\u001b[1;33m,\u001b[0m \u001b[0mseed\u001b[0m\u001b[1;33m=\u001b[0m\u001b[1;36m1\u001b[0m\u001b[1;33m)\u001b[0m\u001b[1;33m\u001b[0m\u001b[1;33m\u001b[0m\u001b[0m\n\u001b[0m\u001b[0;32m     60\u001b[0m \u001b[1;33m\u001b[0m\u001b[0m\n\u001b[0;32m     61\u001b[0m \u001b[1;33m\u001b[0m\u001b[0m\n",
      "\u001b[1;32m~\\anaconda3\\envs\\stan_2\\lib\\site-packages\\pystan\\model.py\u001b[0m in \u001b[0;36msampling\u001b[1;34m(self, data, pars, chains, iter, warmup, thin, seed, init, sample_file, diagnostic_file, verbose, algorithm, control, n_jobs, **kwargs)\u001b[0m\n\u001b[0;32m    811\u001b[0m         \u001b[0mcall_sampler_args\u001b[0m \u001b[1;33m=\u001b[0m \u001b[0mizip\u001b[0m\u001b[1;33m(\u001b[0m\u001b[0mitertools\u001b[0m\u001b[1;33m.\u001b[0m\u001b[0mrepeat\u001b[0m\u001b[1;33m(\u001b[0m\u001b[0mdata\u001b[0m\u001b[1;33m)\u001b[0m\u001b[1;33m,\u001b[0m \u001b[0margs_list\u001b[0m\u001b[1;33m,\u001b[0m \u001b[0mitertools\u001b[0m\u001b[1;33m.\u001b[0m\u001b[0mrepeat\u001b[0m\u001b[1;33m(\u001b[0m\u001b[0mpars\u001b[0m\u001b[1;33m)\u001b[0m\u001b[1;33m)\u001b[0m\u001b[1;33m\u001b[0m\u001b[1;33m\u001b[0m\u001b[0m\n\u001b[0;32m    812\u001b[0m         \u001b[0mcall_sampler_star\u001b[0m \u001b[1;33m=\u001b[0m \u001b[0mself\u001b[0m\u001b[1;33m.\u001b[0m\u001b[0mmodule\u001b[0m\u001b[1;33m.\u001b[0m\u001b[0m_call_sampler_star\u001b[0m\u001b[1;33m\u001b[0m\u001b[1;33m\u001b[0m\u001b[0m\n\u001b[1;32m--> 813\u001b[1;33m         \u001b[0mret_and_samples\u001b[0m \u001b[1;33m=\u001b[0m \u001b[0m_map_parallel\u001b[0m\u001b[1;33m(\u001b[0m\u001b[0mcall_sampler_star\u001b[0m\u001b[1;33m,\u001b[0m \u001b[0mcall_sampler_args\u001b[0m\u001b[1;33m,\u001b[0m \u001b[0mn_jobs\u001b[0m\u001b[1;33m)\u001b[0m\u001b[1;33m\u001b[0m\u001b[1;33m\u001b[0m\u001b[0m\n\u001b[0m\u001b[0;32m    814\u001b[0m         \u001b[0msamples\u001b[0m \u001b[1;33m=\u001b[0m \u001b[1;33m[\u001b[0m\u001b[0msmpl\u001b[0m \u001b[1;32mfor\u001b[0m \u001b[0m_\u001b[0m\u001b[1;33m,\u001b[0m \u001b[0msmpl\u001b[0m \u001b[1;32min\u001b[0m \u001b[0mret_and_samples\u001b[0m\u001b[1;33m]\u001b[0m\u001b[1;33m\u001b[0m\u001b[1;33m\u001b[0m\u001b[0m\n\u001b[0;32m    815\u001b[0m \u001b[1;33m\u001b[0m\u001b[0m\n",
      "\u001b[1;32m~\\anaconda3\\envs\\stan_2\\lib\\site-packages\\pystan\\model.py\u001b[0m in \u001b[0;36m_map_parallel\u001b[1;34m(function, args, n_jobs)\u001b[0m\n\u001b[0;32m     83\u001b[0m         \u001b[1;32mtry\u001b[0m\u001b[1;33m:\u001b[0m\u001b[1;33m\u001b[0m\u001b[1;33m\u001b[0m\u001b[0m\n\u001b[0;32m     84\u001b[0m             \u001b[0mpool\u001b[0m \u001b[1;33m=\u001b[0m \u001b[0mmultiprocessing\u001b[0m\u001b[1;33m.\u001b[0m\u001b[0mPool\u001b[0m\u001b[1;33m(\u001b[0m\u001b[0mprocesses\u001b[0m\u001b[1;33m=\u001b[0m\u001b[0mn_jobs\u001b[0m\u001b[1;33m)\u001b[0m\u001b[1;33m\u001b[0m\u001b[1;33m\u001b[0m\u001b[0m\n\u001b[1;32m---> 85\u001b[1;33m             \u001b[0mmap_result\u001b[0m \u001b[1;33m=\u001b[0m \u001b[0mpool\u001b[0m\u001b[1;33m.\u001b[0m\u001b[0mmap\u001b[0m\u001b[1;33m(\u001b[0m\u001b[0mfunction\u001b[0m\u001b[1;33m,\u001b[0m \u001b[0margs\u001b[0m\u001b[1;33m)\u001b[0m\u001b[1;33m\u001b[0m\u001b[1;33m\u001b[0m\u001b[0m\n\u001b[0m\u001b[0;32m     86\u001b[0m         \u001b[1;32mfinally\u001b[0m\u001b[1;33m:\u001b[0m\u001b[1;33m\u001b[0m\u001b[1;33m\u001b[0m\u001b[0m\n\u001b[0;32m     87\u001b[0m             \u001b[0mpool\u001b[0m\u001b[1;33m.\u001b[0m\u001b[0mclose\u001b[0m\u001b[1;33m(\u001b[0m\u001b[1;33m)\u001b[0m\u001b[1;33m\u001b[0m\u001b[1;33m\u001b[0m\u001b[0m\n",
      "\u001b[1;32m~\\anaconda3\\envs\\stan_2\\lib\\multiprocessing\\pool.py\u001b[0m in \u001b[0;36mmap\u001b[1;34m(self, func, iterable, chunksize)\u001b[0m\n\u001b[0;32m    362\u001b[0m         \u001b[1;32min\u001b[0m \u001b[0ma\u001b[0m \u001b[0mlist\u001b[0m \u001b[0mthat\u001b[0m \u001b[1;32mis\u001b[0m \u001b[0mreturned\u001b[0m\u001b[1;33m.\u001b[0m\u001b[1;33m\u001b[0m\u001b[1;33m\u001b[0m\u001b[0m\n\u001b[0;32m    363\u001b[0m         '''\n\u001b[1;32m--> 364\u001b[1;33m         \u001b[1;32mreturn\u001b[0m \u001b[0mself\u001b[0m\u001b[1;33m.\u001b[0m\u001b[0m_map_async\u001b[0m\u001b[1;33m(\u001b[0m\u001b[0mfunc\u001b[0m\u001b[1;33m,\u001b[0m \u001b[0miterable\u001b[0m\u001b[1;33m,\u001b[0m \u001b[0mmapstar\u001b[0m\u001b[1;33m,\u001b[0m \u001b[0mchunksize\u001b[0m\u001b[1;33m)\u001b[0m\u001b[1;33m.\u001b[0m\u001b[0mget\u001b[0m\u001b[1;33m(\u001b[0m\u001b[1;33m)\u001b[0m\u001b[1;33m\u001b[0m\u001b[1;33m\u001b[0m\u001b[0m\n\u001b[0m\u001b[0;32m    365\u001b[0m \u001b[1;33m\u001b[0m\u001b[0m\n\u001b[0;32m    366\u001b[0m     \u001b[1;32mdef\u001b[0m \u001b[0mstarmap\u001b[0m\u001b[1;33m(\u001b[0m\u001b[0mself\u001b[0m\u001b[1;33m,\u001b[0m \u001b[0mfunc\u001b[0m\u001b[1;33m,\u001b[0m \u001b[0miterable\u001b[0m\u001b[1;33m,\u001b[0m \u001b[0mchunksize\u001b[0m\u001b[1;33m=\u001b[0m\u001b[1;32mNone\u001b[0m\u001b[1;33m)\u001b[0m\u001b[1;33m:\u001b[0m\u001b[1;33m\u001b[0m\u001b[1;33m\u001b[0m\u001b[0m\n",
      "\u001b[1;32m~\\anaconda3\\envs\\stan_2\\lib\\multiprocessing\\pool.py\u001b[0m in \u001b[0;36mget\u001b[1;34m(self, timeout)\u001b[0m\n\u001b[0;32m    769\u001b[0m             \u001b[1;32mreturn\u001b[0m \u001b[0mself\u001b[0m\u001b[1;33m.\u001b[0m\u001b[0m_value\u001b[0m\u001b[1;33m\u001b[0m\u001b[1;33m\u001b[0m\u001b[0m\n\u001b[0;32m    770\u001b[0m         \u001b[1;32melse\u001b[0m\u001b[1;33m:\u001b[0m\u001b[1;33m\u001b[0m\u001b[1;33m\u001b[0m\u001b[0m\n\u001b[1;32m--> 771\u001b[1;33m             \u001b[1;32mraise\u001b[0m \u001b[0mself\u001b[0m\u001b[1;33m.\u001b[0m\u001b[0m_value\u001b[0m\u001b[1;33m\u001b[0m\u001b[1;33m\u001b[0m\u001b[0m\n\u001b[0m\u001b[0;32m    772\u001b[0m \u001b[1;33m\u001b[0m\u001b[0m\n\u001b[0;32m    773\u001b[0m     \u001b[1;32mdef\u001b[0m \u001b[0m_set\u001b[0m\u001b[1;33m(\u001b[0m\u001b[0mself\u001b[0m\u001b[1;33m,\u001b[0m \u001b[0mi\u001b[0m\u001b[1;33m,\u001b[0m \u001b[0mobj\u001b[0m\u001b[1;33m)\u001b[0m\u001b[1;33m:\u001b[0m\u001b[1;33m\u001b[0m\u001b[1;33m\u001b[0m\u001b[0m\n",
      "\u001b[1;31mRuntimeError\u001b[0m: Initialization failed."
     ]
    }
   ],
   "source": [
    "import pandas as pd\n",
    "import numpy as np\n",
    "import pystan\n",
    "import arviz as az\n",
    "import matplotlib.pyplot as plt\n",
    "\n",
    "# Generalised Poisson Model \n",
    "# alpha has to be negative to have underdispersed\n",
    "# Var = lambda*(1 + alpha*lambda)^2\n",
    "# maybe the formula is wrong here\n",
    "# which is why it can't initialised\n",
    "# I could test out generating some values with the formula\n",
    "\n",
    "model_code = \"\"\"\n",
    "\n",
    "functions {\n",
    "    real famoye_generalized_poisson_pmf(int k, real lambda, real a) {\n",
    "        real term1 = (lambda / (1 + a * lambda));\n",
    "        real term2 = pow((lambda + a * k), (k - 1)) / tgamma(k + 1);\n",
    "        real term3 = (-lambda) * (1 + a * k) / (1 + a * lambda);\n",
    "        return term1 * term2 * exp(term3);\n",
    "    }\n",
    "}\n",
    "\n",
    "data {\n",
    "  int<lower=0> N; //number of rows in training set\n",
    "  int<lower=0> y[N]; // need to change this from vector(real)\n",
    "} \n",
    "\n",
    "parameters {  \n",
    "// set golfer mean and disperson parameter\n",
    "  real <lower=0>  golfer_lambda;\n",
    "  real <lower=-10, upper=0> golfer_alpha;  \n",
    "} \n",
    "\n",
    " \n",
    "model {\n",
    "    \n",
    "    // set priors so that lambda is around 72\n",
    "    golfer_lambda ~ normal(72,3);\n",
    "    golfer_alpha ~ normal(-3,1);\n",
    "\n",
    "    // Likelihood using GP2 PMF\n",
    "    for (i in 1:N)\n",
    "        target += log(famoye_generalized_poisson_pmf(y[i], golfer_lambda, golfer_alpha));\n",
    "}\n",
    "\n",
    "\n",
    "\"\"\"\n",
    "\n",
    "# Set observed data to now use round score instead of to par\n",
    "observed_round_score = train_series.values\n",
    "\n",
    "model_data = {'N': len(observed_round_score),\n",
    "               'y': observed_round_score}\n",
    "\n",
    "\n",
    "# Create Model - this will help with recompilation issues\n",
    "stan_model = pystan.StanModel(model_code=model_code)\n",
    "\n",
    "# fit model\n",
    "fit = stan_model.sampling(data=model_data, iter=2000, chains=3, seed=1)\n",
    "\n",
    "\n",
    "# Create summary dictionary\n",
    "summary_dict = fit.summary()\n",
    "\n",
    "# get trace summary\n",
    "trace_summary = pd.DataFrame(summary_dict['summary'], \n",
    "                  columns=summary_dict['summary_colnames'], \n",
    "                  index=summary_dict['summary_rownames'])\n",
    "\n",
    "\n",
    "# Print trace summary\n",
    "# Estimate similar in statsmodels (71.25 with std err 0.943)\n",
    "trace_summary\n"
   ]
  },
  {
   "cell_type": "code",
   "execution_count": null,
   "id": "03c4ab70-044d-428b-b3ed-cd4ef40197f0",
   "metadata": {},
   "outputs": [],
   "source": []
  },
  {
   "cell_type": "code",
   "execution_count": 22,
   "id": "3b6fd74f-34db-4c34-b796-7756afa176d0",
   "metadata": {},
   "outputs": [
    {
     "data": {
      "image/png": "[encoded data removed]",
      "text/plain": [
       "<Figure size 576x432 with 1 Axes>"
      ]
     },
     "metadata": {
      "needs_background": "light"
     },
     "output_type": "display_data"
    },
    {
     "data": {
      "image/png": "[encoded data removed]",
      "text/plain": [
       "<Figure size 576x432 with 1 Axes>"
      ]
     },
     "metadata": {
      "needs_background": "light"
     },
     "output_type": "display_data"
    },
    {
     "data": {
      "image/png": "[encoded data removed]",
      "text/plain": [
       "<Figure size 576x432 with 1 Axes>"
      ]
     },
     "metadata": {
      "needs_background": "light"
     },
     "output_type": "display_data"
    },
    {
     "data": {
      "image/png": "[encoded data removed]",
      "text/plain": [
       "<Figure size 576x432 with 1 Axes>"
      ]
     },
     "metadata": {
      "needs_background": "light"
     },
     "output_type": "display_data"
    },
    {
     "data": {
      "image/png": "[encoded data removed]",
      "text/plain": [
       "<Figure size 576x432 with 1 Axes>"
      ]
     },
     "metadata": {
      "needs_background": "light"
     },
     "output_type": "display_data"
    },
    {
     "data": {
      "image/png": "[encoded data removed]",
      "text/plain": [
       "<Figure size 576x432 with 1 Axes>"
      ]
     },
     "metadata": {
      "needs_background": "light"
     },
     "output_type": "display_data"
    },
    {
     "data": {
      "image/png": "[encoded data removed]",
      "text/plain": [
       "<Figure size 576x432 with 1 Axes>"
      ]
     },
     "metadata": {
      "needs_background": "light"
     },
     "output_type": "display_data"
    },
    {
     "data": {
      "image/png": "[encoded data removed]",
      "text/plain": [
       "<Figure size 576x432 with 1 Axes>"
      ]
     },
     "metadata": {
      "needs_background": "light"
     },
     "output_type": "display_data"
    },
    {
     "data": {
      "image/png": "[encoded data removed]",
      "text/plain": [
       "<Figure size 576x432 with 1 Axes>"
      ]
     },
     "metadata": {
      "needs_background": "light"
     },
     "output_type": "display_data"
    }
   ],
   "source": [
    "# Fit generated data to compare against actual data\n",
    "\n",
    "import numpy as np\n",
    "\n",
    "\n",
    "# Define statistics to loop through\n",
    "# Will have 1k values for each value \n",
    "# Taking the min of 80 obs \n",
    "statistics = {\n",
    "    'min': (np.min(observed_round_score), np.min(y_sim, axis=1)),\n",
    "    '2.5%': (np.percentile(observed_round_score,2.5),np.percentile(y_sim,2.5,axis=1)),\n",
    "    '25%': (np.percentile(observed_round_score,25),np.percentile(y_sim,25,axis=1)),\n",
    "    '50%': (np.percentile(observed_round_score,50),np.percentile(y_sim,50,axis=1)),\n",
    "    'mean': (np.mean(observed_round_score), np.mean(y_sim, axis=1)),\n",
    "    '75%': (np.percentile(observed_round_score,75),np.percentile(y_sim,75,axis=1)),\n",
    "    '97.5%': (np.percentile(observed_round_score,97.5),np.percentile(y_sim,97.5,axis=1)),\n",
    "    'max': (np.max(observed_round_score), np.max(y_sim, axis=1)),\n",
    "    'std': (np.std(observed_round_score), np.std(y_sim, axis=1))\n",
    "}\n",
    "\n",
    "# Plotting loop\n",
    "for stat_name, (data_value, sim_values) in statistics.items():\n",
    "    plt.figure(figsize=(8, 6))\n",
    "    plt.axvline(x=data_value, color='r', linestyle='--', label=f'{stat_name}_data Line')\n",
    "    plt.hist(sim_values, bins=20, alpha=0.7, label=f'{stat_name}_sim Histogram')\n",
    "    plt.xlabel('Values')\n",
    "    plt.ylabel('Frequency')\n",
    "    plt.title(f'Comparison of {stat_name.capitalize()} Data and Simulations')\n",
    "    plt.legend()\n",
    "    plt.grid()\n",
    "\n"
   ]
  },
  {
   "cell_type": "code",
   "execution_count": null,
   "id": "857ec14a-5c64-4d0b-b589-cc835d0c60ee",
   "metadata": {},
   "outputs": [],
   "source": []
  }
 ],
 "metadata": {
  "kernelspec": {
   "display_name": "Python 3 (ipykernel)",
   "language": "python",
   "name": "python3"
  },
  "language_info": {
   "codemirror_mode": {
    "name": "ipython",
    "version": 3
   },
   "file_extension": ".py",
   "mimetype": "text/x-python",
   "name": "python",
   "nbconvert_exporter": "python",
   "pygments_lexer": "ipython3",
   "version": "3.9.7"
  }
 },
 "nbformat": 4,
 "nbformat_minor": 5
}
