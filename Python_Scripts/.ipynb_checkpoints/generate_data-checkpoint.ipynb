{
 "cells": [
  {
   "cell_type": "code",
   "execution_count": 3,
   "id": "41c90e26-4946-429a-95dd-ef18164cd6a9",
   "metadata": {},
   "outputs": [],
   "source": [
    "import numpy as np\n",
    "\n",
    "# Generated this in excel\n",
    "num_people = [13,\n",
    "52,\n",
    "66,\n",
    "65,\n",
    "65,\n",
    "66,\n",
    "65,\n",
    "65,\n",
    "65,\n",
    "66,\n",
    "39,\n",
    "91,\n",
    "66,\n",
    "78,\n",
    "52,\n",
    "66,\n",
    "65,\n",
    "46,\n",
    "84,\n",
    "40,\n",
    "26,\n",
    "52,\n",
    "12,\n",
    "1]\n",
    "\n",
    "# Estimated weight percentage\n",
    "est_weight_lost = [\n",
    "-0.4,\n",
    "-0.37,\n",
    "-0.32,\n",
    "-0.285,\n",
    "-0.255,\n",
    "-0.23,\n",
    "-0.21,\n",
    "-0.1925,\n",
    "-0.18,\n",
    "-0.1675,\n",
    "-0.155,\n",
    "-0.14,\n",
    "-0.1225,\n",
    "-0.1075,\n",
    "-0.0925,\n",
    "-0.08,\n",
    "-0.0675,\n",
    "-0.055,\n",
    "-0.0375,\n",
    "-0.0125,\n",
    "0.01,\n",
    "0.04,\n",
    "0.08,\n",
    "0.18\n",
    "]\n",
    "\n",
    "# Create an array of data multiplying weight lost by number of people\n",
    "create_data = np.repeat(est_weight_lost,num_people)\n",
    "\n",
    "# multiply by 100\n",
    "create_data_2 = create_data*100"
   ]
  },
  {
   "cell_type": "code",
   "execution_count": 4,
   "id": "2cb2412b-f9f8-43e7-b41b-ad69b176bb75",
   "metadata": {},
   "outputs": [
    {
     "data": {
      "text/plain": [
       "array([-40., -40., -40., ...,   8.,   8.,  18.])"
      ]
     },
     "execution_count": 4,
     "metadata": {},
     "output_type": "execute_result"
    }
   ],
   "source": [
    "create_data_2"
   ]
  },
  {
   "cell_type": "code",
   "execution_count": 5,
   "id": "a0e99649-1373-493e-b3c0-670a933e1940",
   "metadata": {},
   "outputs": [],
   "source": [
    "# Save as csv\n",
    "import pandas as pd \n",
    "df = pd.DataFrame(create_data_2)\n",
    "df.to_csv(\"create_data.csv\")"
   ]
  },
  {
   "cell_type": "code",
   "execution_count": 6,
   "id": "2fae07f2-bc4d-4eb5-b76d-bb775e2d645a",
   "metadata": {},
   "outputs": [
    {
     "data": {
      "text/plain": [
       "-15.098774885145483"
      ]
     },
     "execution_count": 6,
     "metadata": {},
     "output_type": "execute_result"
    }
   ],
   "source": [
    "np.mean(create_data_2)"
   ]
  },
  {
   "cell_type": "code",
   "execution_count": null,
   "id": "57da5eef-a1cf-4ac1-81cc-a7f7013b8b8d",
   "metadata": {},
   "outputs": [],
   "source": [
    "# K-S test uses a cumulative Distribution\n",
    "# What I have given is a Probability Density Function\n",
    "\n",
    "# Set the sample size (n)\n",
    "n = 1306  # Replace with your sample size\n",
    "\n",
    "# Set the significance level (alpha)\n",
    "alpha = 0.05  # Replace with your chosen significance level\n",
    "\n",
    "# Calculate the critical value\n",
    "critical_value = ksone.ppf(1 - alpha / 2, n)\n",
    "\n",
    "print(\"Critical Value:\", critical_value)"
   ]
  },
  {
   "cell_type": "code",
   "execution_count": 12,
   "id": "3629ab96-cd16-43ae-906b-685ca0967cea",
   "metadata": {},
   "outputs": [
    {
     "data": {
      "text/plain": [
       "KstestResult(statistic=0.8996053040011698, pvalue=0.0)"
      ]
     },
     "execution_count": 12,
     "metadata": {},
     "output_type": "execute_result"
    }
   ],
   "source": [
    "# Perform K-S Test\n",
    "import scipy\n",
    "from scipy import stats\n",
    "\n",
    "scipy.stats.kstest(create_data_2,\"norm\",alternative='two-sided')\n"
   ]
  },
  {
   "cell_type": "code",
   "execution_count": 13,
   "id": "e193cd81-19ed-4e8c-825a-44d0b77fafe8",
   "metadata": {},
   "outputs": [
    {
     "data": {
      "text/plain": [
       "array([-40., -40., -40., ...,   8.,   8.,  18.])"
      ]
     },
     "execution_count": 13,
     "metadata": {},
     "output_type": "execute_result"
    }
   ],
   "source": [
    "create_data_2"
   ]
  },
  {
   "cell_type": "code",
   "execution_count": 15,
   "id": "924efe3f-79ea-40bd-958c-853a79670101",
   "metadata": {},
   "outputs": [
    {
     "name": "stdout",
     "output_type": "stream",
     "text": [
      "KS Statistic: 0.061223371059227705\n",
      "P-value: 0.00010677591324116121\n",
      "Reject the null hypothesis: Data does not follow a normal distribution.\n"
     ]
    }
   ],
   "source": [
    "import numpy as np\n",
    "from scipy.stats import kstest, norm\n",
    "\n",
    "# Your array of values\n",
    "data = create_data_2\n",
    "\n",
    "# Perform the KS test\n",
    "ks_statistic, p_value = kstest(data, 'norm', args=(np.mean(data), np.std(data)))\n",
    "\n",
    "# Define the significance level\n",
    "alpha = 0.05\n",
    "\n",
    "# Check the results\n",
    "print(\"KS Statistic:\", ks_statistic)\n",
    "print(\"P-value:\", p_value)\n",
    "\n",
    "# Compare the p-value to the significance level\n",
    "if p_value < alpha:\n",
    "    print(\"Reject the null hypothesis: Data does not follow a normal distribution.\")\n",
    "else:\n",
    "    print(\"Fail to reject the null hypothesis: Data follows a normal distribution.\")\n"
   ]
  },
  {
   "cell_type": "code",
   "execution_count": null,
   "id": "08966533-0018-4862-bede-fb9763415ecc",
   "metadata": {},
   "outputs": [],
   "source": [
    "import numpy as np\n",
    "from scipy.stats import kstest, weibull_min\n",
    "\n",
    "# Your data (replace this with your Weibull-distributed data)\n",
    "data = create_data_2\n",
    "\n",
    "# Perform the KS test\n",
    "ks_statistic, p_value = kstest(data, 'weibull_min', args=(2.0, 0.5))\n",
    "# Replace the shape (c) and scale (loc) parameters with your estimated Weibull parameters.\n",
    "\n",
    "# Define the significance level\n",
    "alpha = 0.05\n",
    "\n",
    "# Check the results\n",
    "print(\"KS Statistic:\", ks_statistic)\n",
    "print(\"P-value:\", p_value)\n",
    "\n",
    "# Compare the p-value to the significance level\n",
    "if p_value < alpha:\n",
    "    print(\"Reject the null hypothesis: Data does not follow a Weibull distribution.\")\n",
    "else:\n",
    "    print(\"Fail to reject the null hypothesis: Data follows a Weibull distribution.\")\n"
   ]
  },
  {
   "cell_type": "code",
   "execution_count": 21,
   "id": "56494afc-6315-4bef-95c7-f16da9efc763",
   "metadata": {},
   "outputs": [
    {
     "name": "stdout",
     "output_type": "stream",
     "text": [
      "0.2684757479781238\n",
      "-40.00000000000001\n",
      "1.7180662630799883\n"
     ]
    }
   ],
   "source": [
    "shape, loc, scale = scipy.stats.weibull_min.fit(create_data_2)\n",
    "print(shape)\n",
    "print(loc)\n",
    "print(scale)"
   ]
  },
  {
   "cell_type": "code",
   "execution_count": 22,
   "id": "135d150e-4ae7-4b37-917e-e812072ad3d2",
   "metadata": {},
   "outputs": [
    {
     "data": {
      "text/plain": [
       "array([-40., -40., -40., ...,   8.,   8.,  18.])"
      ]
     },
     "execution_count": 22,
     "metadata": {},
     "output_type": "execute_result"
    }
   ],
   "source": [
    "create_data_2"
   ]
  },
  {
   "cell_type": "code",
   "execution_count": 37,
   "id": "5e5075c4-81fa-4460-aae5-062509669671",
   "metadata": {},
   "outputs": [
    {
     "data": {
      "text/plain": [
       "(0.2684757479781238, -40.00000000000001, 1.7180662630799883)"
      ]
     },
     "execution_count": 37,
     "metadata": {},
     "output_type": "execute_result"
    }
   ],
   "source": [
    "# Only fits for 2 parameter\n",
    "scipy.stats.weibull_min.fit(create_data_2)"
   ]
  },
  {
   "cell_type": "code",
   "execution_count": 24,
   "id": "944fcb82-cbea-4495-9d04-e966e832d235",
   "metadata": {},
   "outputs": [
    {
     "data": {
      "text/plain": [
       "1306"
      ]
     },
     "execution_count": 24,
     "metadata": {},
     "output_type": "execute_result"
    }
   ],
   "source": [
    "len(create_data_2)"
   ]
  },
  {
   "cell_type": "code",
   "execution_count": 36,
   "id": "4ef243f2-6d69-4dd3-980f-837fe163f38d",
   "metadata": {},
   "outputs": [
    {
     "name": "stdout",
     "output_type": "stream",
     "text": [
      "20.81431911485167\n"
     ]
    },
    {
     "data": {
      "image/png": "[encoded data removed]",
      "text/plain": [
       "<Figure size 432x288 with 1 Axes>"
      ]
     },
     "metadata": {
      "needs_background": "light"
     },
     "output_type": "display_data"
    }
   ],
   "source": [
    "import numpy as np\n",
    "import matplotlib.pyplot as plt\n",
    "from scipy.stats import weibull_min\n",
    "\n",
    "# These were taken from Easy Fit\n",
    "c = 4.3  # Shape parameter\n",
    "loc = -55  # Location parameter\n",
    "scale = 44.398  # Scale parameter\n",
    "\n",
    "\n",
    "# Generate random values\n",
    "num_samples = 1000  # Number of random samples\n",
    "random_values = weibull_min.rvs(c, loc=loc, scale=scale, size=num_samples)\n",
    "\n",
    "# print max values\n",
    "print(max(random_values))\n",
    "\n",
    "# Create a histogram with actual data\n",
    "plt.hist(create_data_2, bins=10, density=True, alpha=0.5, color='b', label='Histogram')\n",
    "\n",
    "# Plot the probability density function (PDF) of the Weibull distribution\n",
    "x = np.linspace(-50, max(random_values), 100)\n",
    "pdf = weibull_min.pdf(x, c, loc=loc, scale=scale)\n",
    "plt.plot(x, pdf, 'r-', lw=2, label='Weibull PDF')\n",
    "\n",
    "# Add labels and a legend\n",
    "plt.xlabel('Value')\n",
    "plt.ylabel('Probability Density')\n",
    "plt.legend()\n",
    "\n",
    "# Show the plot\n",
    "plt.show()\n"
   ]
  },
  {
   "cell_type": "code",
   "execution_count": 32,
   "id": "c60574c9-a333-40b1-bdb7-16229214ce08",
   "metadata": {},
   "outputs": [
    {
     "data": {
      "text/plain": [
       "2557.871179513781"
      ]
     },
     "execution_count": 32,
     "metadata": {},
     "output_type": "execute_result"
    }
   ],
   "source": [
    "max(random_values)"
   ]
  },
  {
   "cell_type": "code",
   "execution_count": null,
   "id": "1e05c7fc-a37b-4b32-8fd8-ed28dbe7f4c6",
   "metadata": {},
   "outputs": [],
   "source": []
  }
 ],
 "metadata": {
  "kernelspec": {
   "display_name": "Python 3",
   "language": "python",
   "name": "python3"
  },
  "language_info": {
   "codemirror_mode": {
    "name": "ipython",
    "version": 3
   },
   "file_extension": ".py",
   "mimetype": "text/x-python",
   "name": "python",
   "nbconvert_exporter": "python",
   "pygments_lexer": "ipython3",
   "version": "3.8.8"
  }
 },
 "nbformat": 4,
 "nbformat_minor": 5
}
