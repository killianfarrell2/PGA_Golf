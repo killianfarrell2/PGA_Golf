{
 "cells": [
  {
   "cell_type": "code",
   "execution_count": null,
   "id": "a5075d18-ad8f-4edd-8eea-1062b2ef44ff",
   "metadata": {},
   "outputs": [],
   "source": [
    "import numpy as np\n",
    "from scipy.special import factorial\n",
    "from scipy.optimize import newton\n",
    "\n",
    "def generalized_poisson_pmf(k, lam, theta):\n",
    "    \"\"\"Calculate the PMF of the generalized Poisson distribution.\"\"\"\n",
    "    if k < 0:\n",
    "        return 0\n",
    "    return lam * (lam + k * theta)**(k-1) * np.exp(-(lam + k * theta)) / factorial(k)\n",
    "\n",
    "def generalized_poisson_cdf(k, lam, theta):\n",
    "    \"\"\"Calculate the CDF of the generalized Poisson distribution.\"\"\"\n",
    "    return np.sum([generalized_poisson_pmf(i, lam, theta) for i in range(k+1)])\n",
    "\n",
    "def generalized_poisson_sample(lam, theta, size=1):\n",
    "    \"\"\"Generate random samples from the generalized Poisson distribution.\"\"\"\n",
    "    samples = []\n",
    "    for _ in range(size):\n",
    "        u = np.random.uniform(0, 1)\n",
    "        k = 0\n",
    "        while generalized_poisson_cdf(k, lam, theta) < u:\n",
    "            k += 1\n",
    "        samples.append(k)\n",
    "    return samples if size > 1 else samples[0]\n",
    "\n",
    "# Example usage\n",
    "lam = 2.0   # mean\n",
    "theta = -0.1 # dispersion parameter\n",
    "samples = generalized_poisson_sample(lam, theta, size=1000)\n",
    "\n",
    "\n",
    "# Plotting the samples\n",
    "plt.figure(figsize=(10, 6))\n",
    "plt.hist(samples, bins=range(min(samples), max(samples) + 1), density=True, alpha=0.6, color='b', edgecolor='black')\n",
    "plt.title('Histogram of Generalized Poisson Distribution Samples')\n",
    "plt.xlabel('Sample Value')\n",
    "plt.ylabel('Frequency')\n",
    "\n",
    "# Overlay the theoretical PMF\n",
    "k_values = np.arange(min(samples), max(samples) + 1)\n",
    "pmf_values = [generalized_poisson_pmf(k, lam, theta) for k in k_values]\n",
    "plt.plot(k_values, pmf_values, 'r-', lw=2, label='Theoretical PMF')\n",
    "plt.legend()\n",
    "\n",
    "plt.show()\n"
   ]
  }
 ],
 "metadata": {
  "kernelspec": {
   "display_name": "Python 3 (ipykernel)",
   "language": "python",
   "name": "python3"
  },
  "language_info": {
   "codemirror_mode": {
    "name": "ipython",
    "version": 3
   },
   "file_extension": ".py",
   "mimetype": "text/x-python",
   "name": "python",
   "nbconvert_exporter": "python",
   "pygments_lexer": "ipython3",
   "version": "3.9.7"
  }
 },
 "nbformat": 4,
 "nbformat_minor": 5
}
