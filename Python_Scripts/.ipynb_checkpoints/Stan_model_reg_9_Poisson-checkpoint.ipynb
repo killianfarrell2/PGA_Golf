{
 "cells": [
  {
   "cell_type": "code",
   "execution_count": 1,
   "id": "69dd61f0-ce52-4590-abd7-20ff791385ed",
   "metadata": {},
   "outputs": [
    {
     "name": "stderr",
     "output_type": "stream",
     "text": [
      "C:\\Users\\killi\\AppData\\Local\\Temp/ipykernel_26104/3665337522.py:35: SettingWithCopyWarning: \n",
      "A value is trying to be set on a copy of a slice from a DataFrame.\n",
      "Try using .loc[row_indexer,col_indexer] = value instead\n",
      "\n",
      "See the caveats in the documentation: https://pandas.pydata.org/pandas-docs/stable/user_guide/indexing.html#returning-a-view-versus-a-copy\n",
      "  mydata2['date'] = pd.to_datetime(mydata2['date'])\n",
      "C:\\Users\\killi\\AppData\\Local\\Temp/ipykernel_26104/3665337522.py:38: SettingWithCopyWarning: \n",
      "A value is trying to be set on a copy of a slice from a DataFrame.\n",
      "Try using .loc[row_indexer,col_indexer] = value instead\n",
      "\n",
      "See the caveats in the documentation: https://pandas.pydata.org/pandas-docs/stable/user_guide/indexing.html#returning-a-view-versus-a-copy\n",
      "  mydata2['date_round'] = mydata2['date'] + pd.to_timedelta(mydata2['Round'] - 4, unit='D')\n",
      "C:\\Users\\killi\\AppData\\Local\\Temp/ipykernel_26104/3665337522.py:44: SettingWithCopyWarning: \n",
      "A value is trying to be set on a copy of a slice from a DataFrame.\n",
      "Try using .loc[row_indexer,col_indexer] = value instead\n",
      "\n",
      "See the caveats in the documentation: https://pandas.pydata.org/pandas-docs/stable/user_guide/indexing.html#returning-a-view-versus-a-copy\n",
      "  mydata2['time'] = (mydata2['date_round'] - earliest_date).dt.days\n"
     ]
    }
   ],
   "source": [
    "# This time will be using discree count data\n",
    "\n",
    "import pandas as pd\n",
    "import numpy as np\n",
    "from statsmodels.tsa.holtwinters import ExponentialSmoothing\n",
    "\n",
    "# Read in model data - round level (37,676)\n",
    "model_data = pd.read_csv('C:\\\\KF_Repo\\\\PGA_Golf\\\\Tournament_level_model\\\\Data_manipulation\\\\model_data.csv')\n",
    "\n",
    "\n",
    "# Group by count using pandas groupby()\n",
    "grouped_data = model_data.groupby(['tournament id', 'Round'])['Round_total'].mean().reset_index()\n",
    "\n",
    "# Rename columns\n",
    "grouped_data = grouped_data.rename(columns={\"tournament id\": \"tournament id\", \n",
    "                                            \"Round\": \"Round\",\n",
    "                                            \"Round_total\": \"Avg_Score\"})\n",
    "\n",
    "# Round Avg Score to 2 decimal places (same as strokes gained)\n",
    "grouped_data['Avg_Score'] = grouped_data['Avg_Score'].round(2)\n",
    "\n",
    "# Merge dataframes by 'tournament.id' and 'Round'\n",
    "add_avg = pd.merge(model_data, grouped_data, on=['tournament id', 'Round'])\n",
    "\n",
    "\n",
    "# Add difference - put same format as strokes gained\n",
    "# Negative is bad, positive is good\n",
    "add_avg['Round_sg'] = add_avg['Avg_Score'] - add_avg['Round_total']\n",
    "\n",
    "# Filter data for players that you want to analyze\n",
    "my_players = ['Seamus Power', 'Tony Finau']\n",
    "mydata2 = add_avg[add_avg['player'].isin(my_players)]\n",
    "\n",
    "# Convert date to datetime format\n",
    "mydata2['date'] = pd.to_datetime(mydata2['date'])\n",
    "\n",
    "# Add in a column for date of round\n",
    "mydata2['date_round'] = mydata2['date'] + pd.to_timedelta(mydata2['Round'] - 4, unit='D')\n",
    "\n",
    "# Find the earliest date\n",
    "earliest_date = mydata2['date_round'].min()\n",
    "\n",
    "# Calculate the time column\n",
    "mydata2['time'] = (mydata2['date_round'] - earliest_date).dt.days\n",
    "\n",
    "# Create a sequence of unique dates and assign corresponding time values\n",
    "unique_dates = mydata2['date_round'].unique()\n",
    "date_to_time_mapping = pd.DataFrame({'date_round': unique_dates, 'time_2': np.arange(len(unique_dates))})\n",
    "\n",
    "# Merge the mapping with the original dataframe\n",
    "mydata2 = pd.merge(mydata2, date_to_time_mapping, on='date_round', how='left')\n",
    "\n",
    "# Concatenate columns with \"_\"\n",
    "unique_tr = mydata2[['tournament name','date_round', 'Round']].drop_duplicates()\n",
    "unique_tr['cr'] = unique_tr['tournament name'].astype(str) + \"_\"+ unique_tr['date_round'].astype(str) + \"_\" +\"R\"+ unique_tr['Round'].astype(str)\n",
    "\n",
    "# Concatenate columns with \"_\"\n",
    "unique_tourn = mydata2[['tournament name', 'date']].drop_duplicates()\n",
    "unique_tourn['tourn'] = unique_tourn['tournament name'].astype(str) + \"_\" + unique_tourn['date'].astype(str)\n",
    "\n",
    "# Create additional dataframe before filter\n",
    "mydata_all = pd.merge(mydata2, unique_tr, on=['tournament name','date_round', 'Round'], how='left')\n",
    "mydata_all = pd.merge(mydata_all, unique_tourn, on=['tournament name', 'date'], how='left')\n",
    "\n",
    "# Keep using mydata2\n",
    "mydata2 = pd.merge(mydata2, unique_tr, on=['tournament name','date_round', 'Round'], how='left')\n",
    "mydata2 = pd.merge(mydata2, unique_tourn, on=['tournament name', 'date'], how='left')\n",
    "\n",
    "\n",
    "# Filter train and test data\n",
    "train_data = mydata_all[mydata_all['date_round'] <= \"2020-08-30\"]\n",
    "test_data = mydata_all[mydata_all['date_round'] > \"2020-08-30\"]\n",
    "\n",
    "# Perform Regression on training data\n",
    "reg_data = train_data\n",
    "\n",
    "# Filter by player\n",
    "power = reg_data[reg_data['player'] == \"Seamus Power\"]\n",
    "\n",
    "# Order by date round\n",
    "power = power.sort_values(by='date_round')\n",
    "\n",
    "# Create a time series object - Change this to round total\n",
    "ts_data = pd.Series(power['Round_total'].values, index=power['date_round'])\n",
    "\n",
    "## partition into train and test\n",
    "train_series = ts_data[:80]\n",
    "test_series = ts_data[80:103]\n"
   ]
  },
  {
   "cell_type": "code",
   "execution_count": 6,
   "id": "051ac2fc-37fe-4f53-b1b5-a657e4be329b",
   "metadata": {},
   "outputs": [
    {
     "data": {
      "image/png": "[encoded data removed]",
      "text/plain": [
       "<Figure size 432x288 with 1 Axes>"
      ]
     },
     "metadata": {
      "needs_background": "light"
     },
     "output_type": "display_data"
    },
    {
     "name": "stdout",
     "output_type": "stream",
     "text": [
      "mean  71.2125\n",
      "std  3.2353274563790295\n",
      "var  10.467343750000001\n"
     ]
    }
   ],
   "source": [
    "import matplotlib.pyplot as plt\n",
    "\n",
    "# Plotting the histogram\n",
    "plt.hist(train_series, bins=10, color='skyblue', edgecolor='black')\n",
    "\n",
    "# Adding labels and title\n",
    "plt.xlabel('Counts')\n",
    "plt.ylabel('Frequency')\n",
    "plt.title('Histogram of Count Data')\n",
    "\n",
    "# Display the plot\n",
    "plt.show()\n",
    "\n",
    "# calculate standard dev of generated values\n",
    "# Mean is far greater than Variance so poisson not appropriate\n",
    "print('mean ',np.mean(train_series))\n",
    "print('std ',np.std(train_series))\n",
    "print('var ',np.var(train_series))\n"
   ]
  },
  {
   "cell_type": "code",
   "execution_count": 3,
   "id": "61ef5994-1a93-49ac-9fd3-c5353ca9f5d4",
   "metadata": {},
   "outputs": [],
   "source": [
    "# Create statsmodels generalised\n",
    "import pandas as pd\n",
    "import numpy as np\n",
    "import statsmodels.api as sm\n",
    "import matplotlib.pyplot as plt\n",
    "\n",
    "# Add constant column\n",
    "\n",
    "\n",
    "X = sm.add_constant(train_series)\n",
    "\n"
   ]
  },
  {
   "cell_type": "code",
   "execution_count": 4,
   "id": "5d4c0f22-07da-4f68-a092-a2101ba1ce49",
   "metadata": {},
   "outputs": [
    {
     "name": "stdout",
     "output_type": "stream",
     "text": [
      "                 Generalized Linear Model Regression Results                  \n",
      "==============================================================================\n",
      "Dep. Variable:                      y   No. Observations:                   80\n",
      "Model:                            GLM   Df Residuals:                       79\n",
      "Model Family:                 Poisson   Df Model:                            0\n",
      "Link Function:                    Log   Scale:                          1.0000\n",
      "Method:                          IRLS   Log-Likelihood:                -250.05\n",
      "Date:                Sun, 10 Mar 2024   Deviance:                       11.721\n",
      "Time:                        23:29:32   Pearson chi2:                     11.8\n",
      "No. Iterations:                     3   Pseudo R-squ. (CS):          5.262e-14\n",
      "Covariance Type:            nonrobust                                         \n",
      "==============================================================================\n",
      "                 coef    std err          z      P>|z|      [0.025      0.975]\n",
      "------------------------------------------------------------------------------\n",
      "const          4.2657      0.013    321.966      0.000       4.240       4.292\n",
      "==============================================================================\n"
     ]
    }
   ],
   "source": [
    "# Run Poisson Model\n",
    "poisson_training_results_1 = sm.GLM(train_series.values, X['const'].values, family=sm.families.Poisson()).fit()\n",
    "\n",
    "# Log link function is used initially - so exp(x) is the actual value\n",
    "# log link function ensures predictions are positive\n",
    "print(poisson_training_results_1.summary())"
   ]
  },
  {
   "cell_type": "code",
   "execution_count": 5,
   "id": "23acc13b-7df8-4850-a5a0-0b014b4ab7f4",
   "metadata": {},
   "outputs": [
    {
     "name": "stdout",
     "output_type": "stream",
     "text": [
      "                 Generalized Linear Model Regression Results                  \n",
      "==============================================================================\n",
      "Dep. Variable:                      y   No. Observations:                   80\n",
      "Model:                            GLM   Df Residuals:                       79\n",
      "Model Family:                 Poisson   Df Model:                            0\n",
      "Link Function:               identity   Scale:                          1.0000\n",
      "Method:                          IRLS   Log-Likelihood:                -250.05\n",
      "Date:                Sun, 10 Mar 2024   Deviance:                       11.721\n",
      "Time:                        23:29:36   Pearson chi2:                     11.8\n",
      "No. Iterations:                     3   Pseudo R-squ. (CS):              0.000\n",
      "Covariance Type:            nonrobust                                         \n",
      "==============================================================================\n",
      "                 coef    std err          z      P>|z|      [0.025      0.975]\n",
      "------------------------------------------------------------------------------\n",
      "const         71.2125      0.943     75.478      0.000      69.363      73.062\n",
      "==============================================================================\n"
     ]
    },
    {
     "name": "stderr",
     "output_type": "stream",
     "text": [
      "C:\\Users\\killi\\anaconda3\\envs\\stan_2\\lib\\site-packages\\statsmodels\\genmod\\families\\links.py:13: FutureWarning: The identity link alias is deprecated. Use Identity instead. The identity link alias will be removed after the 0.15.0 release.\n",
      "  warnings.warn(\n",
      "C:\\Users\\killi\\anaconda3\\envs\\stan_2\\lib\\site-packages\\statsmodels\\genmod\\generalized_linear_model.py:308: DomainWarning: The identity link function does not respect the domain of the Poisson family.\n",
      "  warnings.warn((f\"The {type(family.link).__name__} link function \"\n"
     ]
    }
   ],
   "source": [
    "# Run Poisson Model - but change link function to identity\n",
    "# Link function relates the predictors to the mean of the response variable\n",
    "# Link function allows negative values when identity - could preduce out of range predictions\n",
    "poisson_training_results_2 = sm.GLM(train_series.values, X['const'].values, family=sm.families.Poisson(link=sm.families.links.identity()) ).fit()\n",
    "\n",
    "print(poisson_training_results_2.summary())\n"
   ]
  },
  {
   "cell_type": "code",
   "execution_count": 6,
   "id": "0068dc7b-0513-41b0-9d13-f6ed52b08476",
   "metadata": {},
   "outputs": [
    {
     "name": "stdout",
     "output_type": "stream",
     "text": [
      "Warning: Desired error not necessarily achieved due to precision loss.\n",
      "         Current function value: 3.037565\n",
      "         Iterations: 0\n",
      "         Function evaluations: 5\n",
      "         Gradient evaluations: 4\n",
      "                    GeneralizedPoisson Regression Results                     \n",
      "==============================================================================\n",
      "Dep. Variable:                      y   No. Observations:                   80\n",
      "Model:             GeneralizedPoisson   Df Residuals:                       79\n",
      "Method:                           MLE   Df Model:                            0\n",
      "Date:                Sun, 10 Mar 2024   Pseudo R-squ.:                 -0.1692\n",
      "Time:                        23:29:41   Log-Likelihood:                -243.01\n",
      "converged:                      False   LL-Null:                       -207.84\n",
      "Covariance Type:            nonrobust   LLR p-value:                       nan\n",
      "==============================================================================\n",
      "                 coef    std err          z      P>|z|      [0.025      0.975]\n",
      "------------------------------------------------------------------------------\n",
      "const          4.2657        nan        nan        nan         nan         nan\n",
      "alpha         -0.1000        nan        nan        nan         nan         nan\n",
      "==============================================================================\n"
     ]
    },
    {
     "name": "stderr",
     "output_type": "stream",
     "text": [
      "C:\\Users\\killi\\anaconda3\\envs\\stan_2\\lib\\site-packages\\statsmodels\\base\\model.py:595: HessianInversionWarning: Inverting hessian failed, no bse or cov_params available\n",
      "  warnings.warn('Inverting hessian failed, no bse or cov_params '\n",
      "C:\\Users\\killi\\anaconda3\\envs\\stan_2\\lib\\site-packages\\statsmodels\\base\\model.py:607: ConvergenceWarning: Maximum Likelihood optimization failed to converge. Check mle_retvals\n",
      "  warnings.warn(\"Maximum Likelihood optimization failed to \"\n"
     ]
    }
   ],
   "source": [
    "# GP1 Model\n",
    "\n",
    "gen_poisson_gp1 = sm.GeneralizedPoisson(train_series.values, X['const'].values, p=1)\n",
    "\n",
    "gen_poisson_gp1_results = gen_poisson_gp1.fit()\n",
    "\n",
    "print(gen_poisson_gp1_results.summary())"
   ]
  },
  {
   "cell_type": "code",
   "execution_count": 7,
   "id": "4d36c029-8c73-40fe-abed-e6ad5672480a",
   "metadata": {},
   "outputs": [
    {
     "name": "stdout",
     "output_type": "stream",
     "text": [
      "Optimization terminated successfully.\n",
      "         Current function value: 2.598062\n",
      "         Iterations: 8\n",
      "         Function evaluations: 15\n",
      "         Gradient evaluations: 15\n",
      "                    GeneralizedPoisson Regression Results                     \n",
      "==============================================================================\n",
      "Dep. Variable:                      y   No. Observations:                   80\n",
      "Model:             GeneralizedPoisson   Df Residuals:                       79\n",
      "Method:                           MLE   Df Model:                            0\n",
      "Date:                Sun, 10 Mar 2024   Pseudo R-squ.:              -5.551e-15\n",
      "Time:                        23:29:45   Log-Likelihood:                -207.84\n",
      "converged:                       True   LL-Null:                       -207.84\n",
      "Covariance Type:            nonrobust   LLR p-value:                       nan\n",
      "==============================================================================\n",
      "                 coef    std err          z      P>|z|      [0.025      0.975]\n",
      "------------------------------------------------------------------------------\n",
      "const          4.2657      0.005    829.466      0.000       4.256       4.276\n",
      "alpha         -0.0086      0.000    -20.296      0.000      -0.009      -0.008\n",
      "==============================================================================\n"
     ]
    }
   ],
   "source": [
    "# GP2 Model\n",
    "# WHy is the coefficient 4 if my data has values in the 72\n",
    "\n",
    "gen_poisson_gp2 = sm.GeneralizedPoisson(train_series.values, X['const'].values, p=2)\n",
    "\n",
    "gen_poisson_gp2_results = gen_poisson_gp2.fit()\n",
    "\n",
    "print(gen_poisson_gp2_results.summary())"
   ]
  },
  {
   "cell_type": "code",
   "execution_count": 8,
   "id": "cf726259-f4bb-4627-b099-da1b550831ca",
   "metadata": {},
   "outputs": [],
   "source": [
    "# Run test data through model\n",
    "\n",
    "\n",
    "X_test = sm.add_constant(test_series)\n",
    "\n",
    "# I'm only getting the mean prediction here which isn't much help\n",
    "pred_1 = poisson_training_results_1.predict(X['const'].values)\n",
    "pred_2 = poisson_training_results_2.predict(X['const'].values)\n",
    "pred_3 = gen_poisson_gp1_results.predict(X['const'].values)\n",
    "pred_4 = gen_poisson_gp2_results.predict(X['const'].values)\n",
    "\n"
   ]
  },
  {
   "cell_type": "code",
   "execution_count": 13,
   "id": "3865f068-994a-4275-a124-0a5ec3a8b7fc",
   "metadata": {},
   "outputs": [],
   "source": [
    "# Predictions\n",
    "# Range is a bit narrower here\n",
    "# 70.49 to 71.93\n",
    "# THis is vs 69 to 73 before\n",
    "# Need to try run in stan\n",
    "predictions =  gen_poisson_gp2_results.predict(X['const'].values)\n",
    "\n",
    "# Confidence intervals for the predictions\n",
    "prediction_interval =  gen_poisson_gp2_results.get_prediction(X['const'].values).conf_int()\n",
    "\n",
    "# Lower and upper bounds of the prediction interval\n",
    "lower_bound = prediction_interval[:, 0]\n",
    "upper_bound = prediction_interval[:, 1]\n",
    "\n",
    "# Display predictions and prediction intervals\n",
    "#for i, pred in enumerate(predictions):\n",
    "#    print(f\"Prediction: {pred}, Prediction Interval: ({lower_bound[i]}, {upper_bound[i]})\")"
   ]
  },
  {
   "cell_type": "code",
   "execution_count": 12,
   "id": "b4470f0c-a56d-4721-8b4b-066a8d93628a",
   "metadata": {},
   "outputs": [],
   "source": [
    "# Predictions\n",
    "predictions =  poisson_training_results_1.predict(X['const'].values)\n",
    "\n",
    "# Confidence intervals for the predictions\n",
    "prediction_interval =  poisson_training_results_1.get_prediction(X['const'].values).conf_int()\n",
    "\n",
    "# Lower and upper bounds of the prediction interval\n",
    "lower_bound = prediction_interval[:, 0]\n",
    "upper_bound = prediction_interval[:, 1]\n",
    "\n",
    "# Display predictions and prediction intervals\n",
    "#for i, pred in enumerate(predictions):\n",
    "#    print(f\"Prediction: {pred}, Prediction Interval: ({lower_bound[i]}, {upper_bound[i]})\")"
   ]
  },
  {
   "cell_type": "code",
   "execution_count": null,
   "id": "b3a8a14a-b82d-4ba8-b37a-26de2a341cfa",
   "metadata": {},
   "outputs": [
    {
     "name": "stderr",
     "output_type": "stream",
     "text": [
      "INFO:pystan:COMPILING THE C++ CODE FOR MODEL anon_model_60bf90227468273ced1eac6722575eba NOW.\n"
     ]
    }
   ],
   "source": [
    "import pandas as pd\n",
    "import numpy as np\n",
    "import pystan\n",
    "import arviz as az\n",
    "import matplotlib.pyplot as plt\n",
    "\n",
    "# Poisson Model \n",
    "\n",
    "# need to specify loop \n",
    "# in continuous liklihood function is product of individual pdfs\n",
    "# evaluated at each observation\n",
    "# in discrete each observation is modelled separatly\n",
    "# involves product of individual probabilities rather than densities\n",
    "\n",
    "model_code = \"\"\"\n",
    "data {\n",
    "  int<lower=0> N; //number of rows in training set\n",
    "  int<lower=0> y[N]; // need to change this from vector(real)\n",
    "} \n",
    "\n",
    "parameters {  \n",
    "// golfer rate of scoring\n",
    "  real <lower=0> golfer_lambda;\n",
    "\n",
    "} \n",
    "\n",
    "model {\n",
    "    // Likelihood used to get golfer lambda\n",
    " for (i in 1:N)\n",
    "    y[i] ~ poisson(golfer_lambda);\n",
    "}\n",
    "\n",
    "\n",
    "generated quantities {\n",
    " // generate simulated values for y\n",
    "  // vector[N] y_sim; - changed this as well - doesn't seem to make a diff\n",
    "  int<lower=0> y_sim[N];\n",
    "  for (i in 1:N)\n",
    "  y_sim[i] = poisson_rng(golfer_lambda);\n",
    "}\n",
    "\n",
    "\"\"\"\n",
    "\n",
    "# Set observed data to now use round score instead of to par\n",
    "observed_round_score = train_series.values\n",
    "\n",
    "model_data = {'N': len(observed_round_score),\n",
    "               'y': observed_round_score}\n",
    "\n",
    "\n",
    "# Create Model - this will help with recompilation issues\n",
    "stan_model = pystan.StanModel(model_code=model_code)\n",
    "\n",
    "# fit model\n",
    "fit = stan_model.sampling(data=model_data, iter=1000, chains=3, seed=1)\n",
    "\n",
    "# Put Posterior draws into a dictionary\n",
    "trace = fit.extract()\n",
    "\n",
    "\n",
    "# Put simulations into an array\n",
    "y_sim = trace['y_sim']\n",
    "\n",
    "# Create summary dictionary\n",
    "summary_dict = fit.summary()\n",
    "\n",
    "# get trace summary\n",
    "trace_summary = pd.DataFrame(summary_dict['summary'], \n",
    "                  columns=summary_dict['summary_colnames'], \n",
    "                  index=summary_dict['summary_rownames'])\n",
    "\n",
    "\n",
    "# Print trace summary\n",
    "trace_summary"
   ]
  },
  {
   "cell_type": "code",
   "execution_count": null,
   "id": "3b6fd74f-34db-4c34-b796-7756afa176d0",
   "metadata": {},
   "outputs": [],
   "source": []
  }
 ],
 "metadata": {
  "kernelspec": {
   "display_name": "Python 3 (ipykernel)",
   "language": "python",
   "name": "python3"
  },
  "language_info": {
   "codemirror_mode": {
    "name": "ipython",
    "version": 3
   },
   "file_extension": ".py",
   "mimetype": "text/x-python",
   "name": "python",
   "nbconvert_exporter": "python",
   "pygments_lexer": "ipython3",
   "version": "3.9.7"
  }
 },
 "nbformat": 4,
 "nbformat_minor": 5
}
